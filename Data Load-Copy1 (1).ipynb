{
 "cells": [
  {
   "cell_type": "code",
   "execution_count": 1,
   "metadata": {},
   "outputs": [],
   "source": [
    "import pandas as pd"
   ]
  },
  {
   "cell_type": "code",
   "execution_count": 2,
   "metadata": {},
   "outputs": [],
   "source": [
    "df_orders = pd.read_csv('sample_submission.csv')"
   ]
  },
  {
   "cell_type": "code",
   "execution_count": 3,
   "metadata": {},
   "outputs": [],
   "source": [
    "products_tables = [\n",
    "  'tab_2_products_2020-01-01.csv',\n",
    "  'tab_2_products_2020-01-11.csv',\n",
    "  'tab_2_products_2020-01-21.csv',\n",
    "  'tab_2_products_2020-01-31.csv',\n",
    "  'tab_2_products_2020-02-10.csv',\n",
    "  'tab_2_products_2020-03-01.csv',\n",
    "  'tab_2_products_2020-03-11.csv',\n",
    "  'tab_2_products_2020-03-21.csv',\n",
    "  'tab_2_products_2020-03-31.csv',\n",
    "  'tab_2_products_2020-04-10.csv',\n",
    "  'tab_2_products_2020-04-20.csv',\n",
    "  'tab_2_products_2020-04-30.csv',\n",
    "  'tab_2_products_2020-05-20.csv',\n",
    "  'tab_2_products_2020-05-30.csv',\n",
    "  'tab_2_products_2020-06-09.csv',\n",
    "  'tab_2_products_2020-06-19.csv',\n",
    "  'tab_2_products_2020-06-29.csv',\n",
    "  'tab_2_products_2020-07-19.csv',\n",
    "  'tab_2_products_2020-07-29.csv',\n",
    "  'tab_2_products_2020-08-08.csv',\n",
    "  'tab_2_products_2020-08-18.csv',\n",
    "  'tab_2_products_2020-08-28.csv',\n",
    "  'tab_2_products_2020-09-07.csv',\n",
    "]\n",
    "\n",
    "df_products = []\n",
    "for i,product_table in enumerate(products_tables):\n",
    "    df_products.append(pd.read_csv(product_table))"
   ]
  },
  {
   "cell_type": "code",
   "execution_count": 4,
   "metadata": {},
   "outputs": [],
   "source": [
    "df_full_products = pd.concat([*df_products])"
   ]
  },
  {
   "cell_type": "code",
   "execution_count": 5,
   "metadata": {},
   "outputs": [],
   "source": [
    "df_orders = pd.read_csv('tab_1_orders.csv')\n",
    "\n",
    "df_categories = pd.read_csv('tab_3_categories.csv')\n",
    "\n",
    "df_user_profiles = pd.read_csv('tab_4_user_profiles.csv')\n",
    "\n",
    "df_product_properties = pd.read_csv('tab_5_product_properties.csv')\n",
    "\n",
    "df_city = pd.read_csv('tab_6_city.csv')\n",
    "\n",
    "df_sample_submission_sample = pd.read_csv('sample_submission.csv')"
   ]
  },
  {
   "cell_type": "code",
   "execution_count": 27,
   "metadata": {},
   "outputs": [
    {
     "data": {
      "text/html": [
       "<div>\n",
       "<style scoped>\n",
       "    .dataframe tbody tr th:only-of-type {\n",
       "        vertical-align: middle;\n",
       "    }\n",
       "\n",
       "    .dataframe tbody tr th {\n",
       "        vertical-align: top;\n",
       "    }\n",
       "\n",
       "    .dataframe thead th {\n",
       "        text-align: right;\n",
       "    }\n",
       "</style>\n",
       "<table border=\"1\" class=\"dataframe\">\n",
       "  <thead>\n",
       "    <tr style=\"text-align: right;\">\n",
       "      <th></th>\n",
       "      <th>user_id</th>\n",
       "      <th>order_id</th>\n",
       "      <th>line_item_id</th>\n",
       "      <th>price</th>\n",
       "      <th>quantity</th>\n",
       "      <th>discount</th>\n",
       "      <th>product_name</th>\n",
       "      <th>product_id</th>\n",
       "      <th>brand_name</th>\n",
       "      <th>master_category_id</th>\n",
       "      <th>parent_category_id</th>\n",
       "    </tr>\n",
       "  </thead>\n",
       "  <tbody>\n",
       "    <tr>\n",
       "      <th>0</th>\n",
       "      <td>525</td>\n",
       "      <td>5354800</td>\n",
       "      <td>28381452</td>\n",
       "      <td>116.000000</td>\n",
       "      <td>4</td>\n",
       "      <td>0.00</td>\n",
       "      <td>Лазанья Золотой Петушок мясной слоеный пирог з...</td>\n",
       "      <td>37548</td>\n",
       "      <td>Золотой Петушок</td>\n",
       "      <td>101.0</td>\n",
       "      <td>99</td>\n",
       "    </tr>\n",
       "    <tr>\n",
       "      <th>1</th>\n",
       "      <td>525</td>\n",
       "      <td>5354800</td>\n",
       "      <td>29242911</td>\n",
       "      <td>56.990002</td>\n",
       "      <td>2</td>\n",
       "      <td>13.08</td>\n",
       "      <td>Хлеб Хлебный Дом Геркулес зерновой с отрубями ...</td>\n",
       "      <td>5636</td>\n",
       "      <td>Хлебный Дом</td>\n",
       "      <td>596.0</td>\n",
       "      <td>51</td>\n",
       "    </tr>\n",
       "    <tr>\n",
       "      <th>2</th>\n",
       "      <td>525</td>\n",
       "      <td>5354800</td>\n",
       "      <td>29242919</td>\n",
       "      <td>64.989998</td>\n",
       "      <td>2</td>\n",
       "      <td>40.02</td>\n",
       "      <td>Тортилья Delicados оригинальная пшеничная</td>\n",
       "      <td>22107</td>\n",
       "      <td>Delicados</td>\n",
       "      <td>596.0</td>\n",
       "      <td>51</td>\n",
       "    </tr>\n",
       "    <tr>\n",
       "      <th>3</th>\n",
       "      <td>525</td>\n",
       "      <td>5354800</td>\n",
       "      <td>29243785</td>\n",
       "      <td>44.990002</td>\n",
       "      <td>6</td>\n",
       "      <td>0.00</td>\n",
       "      <td>Вода питьевая минеральная BonAqua газированная...</td>\n",
       "      <td>2530</td>\n",
       "      <td>BonAqua</td>\n",
       "      <td>77.0</td>\n",
       "      <td>74</td>\n",
       "    </tr>\n",
       "    <tr>\n",
       "      <th>4</th>\n",
       "      <td>525</td>\n",
       "      <td>5354800</td>\n",
       "      <td>29244246</td>\n",
       "      <td>65.900002</td>\n",
       "      <td>6</td>\n",
       "      <td>30.99</td>\n",
       "      <td>Газированный напиток Mirinda Апельсин 1,5 л</td>\n",
       "      <td>3818486</td>\n",
       "      <td>Mirinda</td>\n",
       "      <td>76.0</td>\n",
       "      <td>74</td>\n",
       "    </tr>\n",
       "  </tbody>\n",
       "</table>\n",
       "</div>"
      ],
      "text/plain": [
       "   user_id  order_id  line_item_id       price  quantity  discount  \\\n",
       "0      525   5354800      28381452  116.000000         4      0.00   \n",
       "1      525   5354800      29242911   56.990002         2     13.08   \n",
       "2      525   5354800      29242919   64.989998         2     40.02   \n",
       "3      525   5354800      29243785   44.990002         6      0.00   \n",
       "4      525   5354800      29244246   65.900002         6     30.99   \n",
       "\n",
       "                                        product_name  product_id  \\\n",
       "0  Лазанья Золотой Петушок мясной слоеный пирог з...       37548   \n",
       "1  Хлеб Хлебный Дом Геркулес зерновой с отрубями ...        5636   \n",
       "2          Тортилья Delicados оригинальная пшеничная       22107   \n",
       "3  Вода питьевая минеральная BonAqua газированная...        2530   \n",
       "4        Газированный напиток Mirinda Апельсин 1,5 л     3818486   \n",
       "\n",
       "        brand_name  master_category_id  parent_category_id  \n",
       "0  Золотой Петушок               101.0                  99  \n",
       "1      Хлебный Дом               596.0                  51  \n",
       "2        Delicados               596.0                  51  \n",
       "3          BonAqua                77.0                  74  \n",
       "4          Mirinda                76.0                  74  "
      ]
     },
     "execution_count": 27,
     "metadata": {},
     "output_type": "execute_result"
    }
   ],
   "source": [
    "df_products[0].head()"
   ]
  },
  {
   "cell_type": "code",
   "execution_count": 28,
   "metadata": {
    "scrolled": true
   },
   "outputs": [],
   "source": [
    "df_full_orders = pd.merge(df_orders, df_full_products, how='inner', on=[\"order_id\"] )"
   ]
  },
  {
   "cell_type": "code",
   "execution_count": 29,
   "metadata": {},
   "outputs": [],
   "source": [
    "df_full_orders = df_full_orders[df_full_orders['product_id'] != 0]"
   ]
  },
  {
   "cell_type": "code",
   "execution_count": 30,
   "metadata": {},
   "outputs": [],
   "source": [
    "df_full_orders = df_full_orders.drop([\"parent_category_id\",\"master_category_id\",\"product_name\",\"line_item_id\", \"user_id_y\"],axis=1)"
   ]
  },
  {
   "cell_type": "code",
   "execution_count": 31,
   "metadata": {},
   "outputs": [],
   "source": [
    "df_full_orders['user_id'] = df_full_orders['user_id_x']\n",
    "df_full_orders = df_full_orders.drop([\"user_id_x\"],axis=1)"
   ]
  },
  {
   "cell_type": "code",
   "execution_count": 32,
   "metadata": {},
   "outputs": [],
   "source": [
    "df_full_orders['discount'] = df_full_orders.discount.apply(lambda d: max(0,d))"
   ]
  },
  {
   "cell_type": "code",
   "execution_count": 33,
   "metadata": {},
   "outputs": [],
   "source": [
    "df_full_orders['price'] = (df_full_orders['price'] - df_full_orders[\"discount\"]) * df_full_orders[\"quantity\"]"
   ]
  },
  {
   "cell_type": "code",
   "execution_count": 34,
   "metadata": {},
   "outputs": [],
   "source": [
    "df_full_orders = df_full_orders.drop([\"discount\",\"quantity\"],axis=1)"
   ]
  },
  {
   "cell_type": "code",
   "execution_count": 35,
   "metadata": {},
   "outputs": [],
   "source": [
    "df_gb = df_full_orders.groupby(['retailer', 'platform'])"
   ]
  },
  {
   "cell_type": "code",
   "execution_count": 36,
   "metadata": {},
   "outputs": [
    {
     "data": {
      "text/plain": [
       "<matplotlib.axes._subplots.AxesSubplot at 0x7fb6a5f40e50>"
      ]
     },
     "execution_count": 36,
     "metadata": {},
     "output_type": "execute_result"
    },
    {
     "data": {
      "image/png": "[encoded data removed]",
      "text/plain": [
       "<Figure size 432x288 with 1 Axes>"
      ]
     },
     "metadata": {
      "needs_background": "light"
     },
     "output_type": "display_data"
    }
   ],
   "source": [
    "df_user_profiles['gender'].value_counts().plot.bar()"
   ]
  },
  {
   "cell_type": "code",
   "execution_count": 37,
   "metadata": {},
   "outputs": [],
   "source": [
    "import numpy as np"
   ]
  },
  {
   "cell_type": "code",
   "execution_count": 38,
   "metadata": {},
   "outputs": [
    {
     "data": {
      "text/plain": [
       "array(['METRO', 'ВкусВилл', 'Ашан', 'Бахетле', 'SELGROS', 'Лента',\n",
       "       'Азбука Вкуса', 'BILLA', 'REAL', 'МЕГАМАРТ', 'ВИКТОРИЯ',\n",
       "       'МАГНОЛИЯ', 'ЗЕЛЕНОЕ ЯБЛОКО', 'Командор', 'КИТ', 'Аллея', 'ТИТАН',\n",
       "       'Быстроном', 'Фреш25', 'ЮгОпт', 'Home Market', 'ВЕГА', 'Хороший',\n",
       "       'ИДЕЯ', 'КАРАВАН', 'ТЦ \"Новомариинский\" ', 'Оптоклуб РЯДЫ',\n",
       "       'Столичный', 'ПАРУС', 'БЕГЕМАГ', 'СберМаркет', 'СИГМА', 'ДЕЯ',\n",
       "       'УДАЧНАЯ ПОКУПКА', 'ТД ХОРОШИЙ', 'Забайкальский Привозъ', 'Мегас',\n",
       "       'МаксМаркет', 'Шан', 'СЕДЬМАЯ СТОЛИЦА', 'Осень', 'АУТЛЕТ',\n",
       "       'ТЦ STOЛИЦА', 'Улыбка Радуги', 'АГРОКОМПЛЕКС'], dtype=object)"
      ]
     },
     "execution_count": 38,
     "metadata": {},
     "output_type": "execute_result"
    }
   ],
   "source": [
    "retailers = df_full_orders.retailer.unique()\n",
    "platforms = np.array(['web', 'app'])\n"
   ]
  },
  {
   "cell_type": "code",
   "execution_count": 39,
   "metadata": {},
   "outputs": [],
   "source": [
    "top_50_products = df_full_orders.product_id.value_counts()[:50].index"
   ]
  },
  {
   "cell_type": "code",
   "execution_count": 40,
   "metadata": {},
   "outputs": [],
   "source": [
    "r = df_gb['product_id'].value_counts()"
   ]
  },
  {
   "cell_type": "code",
   "execution_count": 41,
   "metadata": {},
   "outputs": [],
   "source": [
    "def fill_to_50(top_50_per_retailer_and_platform,top_50_products):\n",
    "    new_predictions = {}\n",
    "    \n",
    "    for rp, predictions in top_50_per_retailer_and_platform.items():\n",
    "        new_prediction = predictions[:50]\n",
    "        if len(predictions) < 50:\n",
    "            new_prediction = np.concatenate((predictions,top_50_products))[:50]\n",
    "        new_predictions[rp] = ' '.join(list(str(x) for x in new_prediction))\n",
    "    return new_predictions"
   ]
  },
  {
   "cell_type": "code",
   "execution_count": 68,
   "metadata": {},
   "outputs": [],
   "source": [
    "top_50_products = df_full_orders.product_id.value_counts()[:50].index\n",
    "\n",
    "top_50_per_retailer_and_platform = {}\n",
    "for retailer in retailers:\n",
    "    for platform in platforms:\n",
    "            if platform in r.loc[retailer]:\n",
    "                try:\n",
    "                    top_50_per_retailer_and_platform[(retailer,platform)] = r.loc[retailer][platform][:50].index\n",
    "                except KeyError:\n",
    "                    print(retailer)\n",
    "                    print(platform)\n",
    "                    \n",
    "\n",
    "top_50_products_per_retailer = {}\n",
    "df_gb_retailers = df_full_orders.groupby([\"retailer\"]).product_id.value_counts()\n",
    "for retailer in retailers:\n",
    "    top_50_products_per_retailer[retailer] = df_gb_retailers.loc[retailer][:50].index\n",
    "    \n",
    "top_50_products_per_platform = {}\n",
    "df_gb_platforms = df_full_orders.groupby([\"platform\"]).product_id.value_counts()\n",
    "for platform in platforms:\n",
    "    top_50_products_per_platform[platform] = df_gb_platforms.loc[platform][:50].index"
   ]
  },
  {
   "cell_type": "code",
   "execution_count": 69,
   "metadata": {},
   "outputs": [
    {
     "data": {
      "text/plain": [
       "{('METRO',\n",
       "  'web'): '709 55133 1300 55134 3817542 63072 3817484 5469728 69669 5479511 100789 5217 39590 3817489 166 72006 94333 67694 9959 39591 176 158 72875 5479153 304 687 5476137 100812 10163 94227 5061792 165 100849 54728 5642 5481691 14564 3302557 3497570 105764 7397 3817512 655 20276 5469736 24831 3302524 5479797 661 21904',\n",
       " ('METRO',\n",
       "  'app'): '709 55133 1300 5469728 55134 3817484 5217 63072 5479511 3817542 39590 69669 166 100789 3817489 9959 72875 67694 158 72006 94333 39591 54728 176 687 165 304 5642 100849 100812 14564 5481691 5479153 5469736 5476137 68465 49911 9425 7397 3817512 5061792 20276 21904 3497570 661 36067 981 10163 24831 14630',\n",
       " ('ВкусВилл',\n",
       "  'web'): '88103 88073 88077 3817735 88074 88295 88025 97616 88023 4274697 88028 88012 88456 88027 88898 88088 88060 88349 88795 88021 88811 88757 88102 89075 3302668 88420 89217 88370 88242 88011 88990 88238 88710 97688 89044 3302760 88504 88157 88101 88371 201347 201477 201483 3302749 88070 88075 3817808 88175 88372 88531',\n",
       " ('ВкусВилл',\n",
       "  'app'): '88103 88074 3817735 88073 88025 88295 97616 88077 4274697 88456 88060 88420 88811 88021 89217 88757 88102 88027 88990 88242 88012 88028 88070 88088 88370 3302760 89075 3302653 88795 88011 88023 98548 97688 88349 88086 88372 88433 88418 201347 3302783 201364 88400 89027 88215 88898 201477 88371 201483 88510 201431',\n",
       " ('Ашан',\n",
       "  'web'): '3497419 21767 7036235 3497570 3497505 7036228 90518 3497450 77094 43 3497424 3497403 72003 3497477 3497352 51487 75676 7036241 3497447 73492 3497348 158 3497521 9127329 94677 3497502 7036239 39590 72929 67694 3497476 45457 3497511 7036226 166 176 39591 55140 5257 7036182 3497519 73413 3497585 3497330 5182 45459 3497412 45458 9254888 9254893',\n",
       " ('Ашан',\n",
       "  'app'): '3497419 21767 7036235 3497570 3497505 7036228 43 77094 73492 72003 7036241 75676 90518 3497352 3497450 72929 3497403 9127329 9254888 3497447 51487 3497424 7036226 158 5257 3497521 3497519 3497502 3497348 39590 176 94677 7036239 166 3497477 3497476 55140 5182 165 45457 73413 39591 3497585 67694 7036182 3497330 4592908 3497558 49911 18887',\n",
       " ('Бахетле',\n",
       "  'web'): '7040893 7040973 7057048 2834642 7056660 7040884 165 14836 7040896 7041015 7041025 7056518 7056523 7040853 5887 7056923 7057350 399 5489 5503 5892 15997 21904 22526 67694 70131 74517 77405 85165 2833724 2834012 2834949 2835062 3587873 7040912 7041093 7041120 7041180 7056582 7056656 7056657 7056831 7057100 7057255 7326788 166 2320 2558 39591 101435',\n",
       " ('Бахетле',\n",
       "  'app'): '7040893 7040973 7041015 7056523 7040884 14836 7040853 7040898 7041001 7040912 7041121 7041138 165 2833724 7057053 7057048 7040992 7060454 166 2834012 2833710 5471598 7041120 7040930 7041176 7040896 7056871 7056923 7057011 7040870 7041180 7056527 7040865 7056583 7056635 7056656 7056657 7056797 7063834 7040857 7040886 7041186 7056696 7057100 7057222 7104024 7326747 7041191 7056660 7057255',\n",
       " ('SELGROS',\n",
       "  'web'): '100849 90446 60128 7054137 2600082 14564 45459 94592 166 10265 45458 67213 5476534 9251140 104 176 39591 45448 58010 63072 90974 92418 4592908 5479399 159 165 5275 20071 24831 31277 37061 38597 46710 60841 70763 78552 86094 86251 95006 96205 96219 201891 3497588 6749597 7323275 7324478 7384374 172 460 981',\n",
       " ('SELGROS',\n",
       "  'app'): '90446 165 14564 5476534 5275 7054137 39591 95006 176 18422 73684 45459 5177 104 100849 5182 2600082 7033707 159 45457 31277 78821 38153 7048700 9251456 166 10049 67499 92432 3883053 4275810 4592908 7043250 7092 38597 46710 59346 63780 45448 67693 94592 3829471 7384372 9251140 5650 60841 67473 67866 7324478 2628',\n",
       " ('Лента',\n",
       "  'web'): '709 73725 39770 72011 39590 73697 166 21698 7000939 39777 73286 21757 6685882 67694 73694 85789 72003 73431 76996 75606 7048452 77094 77313 165 6782754 43 72001 73435 77099 14564 73690 9424 73484 13239579 73492 73846 6805305 100 180 77086 77079 170 49911 21904 73414 73726 6805308 224 80233 75676',\n",
       " ('Лента',\n",
       "  'app'): '709 73725 72011 166 7000939 39770 39590 39777 21757 21698 73697 73286 67694 6685882 72003 85789 73694 73431 7048452 9424 14564 100 76996 6782754 180 75606 77313 77079 43 77094 77099 49911 6805305 73492 4275315 165 72001 66893 13239579 170 73690 77086 21904 224 24835 80233 73484 73414 14630 6782783',\n",
       " ('Азбука Вкуса',\n",
       "  'web'): '5571329 5574390 5574631 5570029 5571868 5573317 5574641 5571242 5573209 5575806 5568967 5576350 5580762 5568751 5572800 5568221 5568309 5568522 5569799 5570812 5572296 5571048 5571899 5574666 5577239 5577763 5579477 5587380 5568263 5568859 5568955 5572812 5573393 5574119 5575495 5577818 5581173 5586632 5569185 5570417 5571267 5574807 5575939 5578927 5578928 5580905 5582503 5586149 5586286 5567855',\n",
       " ('Азбука Вкуса',\n",
       "  'app'): '5571329 5574390 5576350 5578927 5571868 5572800 5568955 5568339 5575806 5571160 5568309 5569839 5572795 5570655 5573317 5567855 5579146 5568967 5575170 5571172 5572296 5578928 5580905 5569185 5573209 5571048 5573311 5575939 5577707 5579794 5571030 5575534 5568316 5568576 5570029 5571028 5577763 5568263 5568311 5569799 5572294 5579299 5568751 5571360 5573350 5570040 5572276 5573295 5574211 5574666',\n",
       " ('BILLA',\n",
       "  'web'): '7323246 7323161 7323117 7323116 7323159 7323120 7323165 7323306 7323088 7323101 7323219 7343198 7323220 7323208 7343205 5075971 7323086 7323255 7323145 7323192 39590 45457 3497348 176 10163 39591 7364434 7393783 687 6756942 7323089 59610 7323121 7323235 166 5481318 7323134 7323150 7323169 7323825 7323160 7323291 7323297 7323298 7323300 9950 7343234 158 10049 7323272',\n",
       " ('BILLA',\n",
       "  'app'): '7323246 7323117 7323161 7323116 7323306 7323120 7323145 7323159 7323088 7323101 7364434 7323208 7323219 7323165 5075971 7323220 7343198 176 7323255 59610 7323086 60841 7323160 687 45458 7323825 7323235 7343205 7323192 7323169 7323419 7323300 39590 7323189 45457 7323133 5481318 166 7323156 399 102932 3497348 5469827 7323150 7393783 165 10163 7032787 7323134 9950',\n",
       " ('REAL',\n",
       "  'web'): '709 55134 3817484 5469728 3302557 1300 63072 55133 5479493 3497570 5469736 5217 69669 39590 72006 5479511 20276 5479797 72875 100849 166 10163 22161 6005364 9496 10095 39591 3817542 5634 22035 45459 5047328 5642 9501 10115 14564 55140 94227 7324996 7325010 9932 9936 60842 67694 92418 94333 5469788 5479931 60 165',\n",
       " ('REAL',\n",
       "  'app'): '709 5217 3817484 72006 5469728 39590 1300 3497570 55134 55133 166 63072 69669 5469736 94333 158 100849 72875 10115 10095 10163 9425 45459 5479493 3302557 55130 4592908 5479797 45457 22035 6005364 5182 5634 7324996 661 5178 19562 20276 55140 5479511 5214 100789 5061260 9932 14564 67694 176 9496 9959 100812',\n",
       " ('МЕГАМАРТ',\n",
       "  'web'): '3563878 7029327 7029264 7029363 3818321 5469614 5469394 3565479 7029311 7029296 3566296 9210653 7029374 5476534 7029291 3818324 3818660 2834409 3818320 3564693 3564694 7029300 3570325 7048944 9210651 7029292 2834407 3818615 9210652 7029288 7029308 7029379 5214967 3497654 7029331 2834410 7029286 3048672 7029328 7029306 7029323 7048943 7029276 7029431 7029378 7029257 7029277 7029314 3818330 39590',\n",
       " ('МЕГАМАРТ',\n",
       "  'app'): '7029327 3563878 7029363 7029264 3818321 5469394 3565479 5469614 3566296 7029296 7029311 7048944 9210653 2834409 7029292 7029291 5476534 7029374 7048943 2834410 2834407 9210651 3564694 3818320 3564693 3818324 7029379 7029308 7029378 7029257 3048672 3497654 5214967 7054119 7029288 9210652 7029306 7029300 3570325 3818660 7029331 7029286 39590 7029431 3048679 57199 7055256 3818322 7029380 7029277',\n",
       " ('ВИКТОРИЯ',\n",
       "  'web'): '7069144 5047596 7057733 5047595 7057764 7057701 7330536 78821 6748844 7057716 7015764 7057691 72157 7057728 7057843 10016 6748863 7057675 7330537 6748802 7057729 7057757 14630 5051493 6748991 7057720 4592908 6784393 7057717 7057858 7330535 7330538 6749006 3043443 7057712 7057805 7057941 7069423 7108407 7069414 57199 100233 6748935 7057721 7057884 39543 52657 3041037 4275808 6748801',\n",
       " ('ВИКТОРИЯ',\n",
       "  'app'): '7069144 5047596 7057716 7057729 7057764 7057728 7057733 4592908 7057843 7330536 5047595 7057720 7057691 7330537 7057858 6784393 5051493 7057675 6748844 7015764 7330535 7057805 14630 6748802 7057701 7069127 7069156 3041037 6748863 7328940 14564 66893 72157 6748961 7057941 7330538 7057757 6748884 6748801 57199 78821 7057712 7060724 100233 7057717 67694 7057721 7057835 7057884 5051436',\n",
       " ('МАГНОЛИЯ',\n",
       "  'web'): '7384257 175 45458 7032211 7048737 7384256 7384266 9141101 143 13481 24775 24831 72184 82905 5476740 5476741 5481629 5997165 7384250 7384283 7384295 7384300 9141110 9141111 60 157 166 170 182 225 261 266 278 456 2270 2400 2628 4376 5554 5610 6331 6332 6367 6590 6907 7648 7751 8080 9496 9609',\n",
       " ('МАГНОЛИЯ',\n",
       "  'app'): '7384293 7384292 45458 7384294 7384305 7384261 7384268 7384304 7384295 7406283 7440095 9141111 165 166 39590 7384257 7384266 7384276 7384309 7406282 9141101 9141110 10016 5479521 7384256 7384290 7384306 2628 4443 14465 15593 19562 25636 59610 68476 7329905 7384283 7384297 7384300 9141096 170 582 2578 14770 15245 36237 45924 50126 50218 57030',\n",
       " ('ЗЕЛЕНОЕ ЯБЛОКО',\n",
       "  'web'): '7058145 7058030 407 201074 6749986 7057994 7058023 7058054 11 7092 8266 38251 5654314 7000377 7058006 170 5872 13128 18017 39590 39591 48316 58709 59126 72154 91784 3039055 5051269 7058002 7058012 7081193 7081219 7081258 222 457 14296 14297 14757 14943 17328 17447 18346 18352 21904 26222 37455 38072 38679 38714 39712',\n",
       " ('ЗЕЛЕНОЕ ЯБЛОКО',\n",
       "  'app'): '7058006 7058110 7057994 7058145 7058030 7057993 7058023 7057959 7327953 7058141 7081253 7058002 7341677 7058054 7058056 67694 7057984 7081219 58170 7057966 4277163 7058076 7081177 38251 39591 5046689 7058080 7058083 7081165 46905 54731 7057954 7085435 1242 63780 4277107 5046675 7058122 7081152 49911 50128 7057970 7057982 7058081 7058150 7081208 1278 93655 3818498 4277106',\n",
       " ('Командор',\n",
       "  'web'): '5483185 166 6804734 39590 7043935 6804735 7043922 165 7384130 7043917 7043960 5657773 6390514 5476827 5657868 7043948 7407247 5657889 7043925 7044003 6804736 7043931 222 225 67694 7043899 7043944 14630 5476828 7043974 7043979 7384085 21904 7043933 7043966 7043994 60 7043973 7105240 7328313 7384079 224 5477569 5657890 5657911 7043949 7043975 7105051 182 8544',\n",
       " ('Командор',\n",
       "  'app'): '5483185 166 7384130 165 6804734 7043935 6390514 7407247 7044003 7105036 39590 5657773 7043944 67694 7105051 6804735 7043926 7043960 7043922 7043966 5477569 6804736 7043933 5657775 7043925 7043973 7016414 7043917 7043931 7043948 7043949 7328313 399 5657889 5483205 7384079 7043938 224 36067 50128 2834407 7105240 5477574 6784247 7043950 225 261 8544 7384085 222',\n",
       " ('КИТ',\n",
       "  'web'): '10000 15373 15375 57810 57828 57952 60162 78059 90003 95130 95314 5046592 5075859 6695203 7055927 7056028 7324140 709 39590 166 55133 3497419 67694 1300 5469728 55134 3817484 63072 3817542 158 176 5217 165 5479511 39591 69669 14564 100789 49911 3817489 3497570 9959 73725 21904 72006 72875 94333 14630 21767 100',\n",
       " ('КИТ',\n",
       "  'app'): '2628 5046962 17145 60710 66915 78724 5046649 5046657 5051099 5481776 6691645 7055147 7055235 8005240 8005251 176 287 460 461 462 1597 1598 6156 6729 7092 7495 7566 7676 8546 9795 9932 13111 13112 13113 13114 13181 14392 14696 17009 17203 18864 20414 25140 25144 25728 25890 25924 26175 26176 26344',\n",
       " ('Аллея',\n",
       "  'web'): '166 5483185 103957 165 399 7105036 7328152 5657775 6390514 7043935 7384130 50128 5477569 7043915 7043984 7044003 7384142 61 18563 21904 23499 39590 86112 7043922 7043926 7384079 138 224 4522 15593 16660 18108 26751 39591 48315 60163 60305 65407 67437 67694 77337 77338 93463 5476828 5477574 5479070 7043944 7043973 7043979 7044007',\n",
       " ('Аллея',\n",
       "  'app'): '7384130 166 5483185 165 7043935 7105036 39590 7384079 6390514 7043922 5477569 7043932 7043944 7043975 21904 67694 13168 4522 7043917 7043948 7105051 7043949 7043950 7328152 50128 7043973 7044003 7105240 7407247 5657775 7043960 7043966 225 39589 5469797 7384081 6784420 7043925 7105003 7384121 7384085 103957 224 5657874 7043991 7384131 456 8544 68542 86847',\n",
       " ('ТИТАН',\n",
       "  'web'): '26698 64017 91374 7054170 152 2296 5887 6291 7397 10074 24827 39729 47770 57909 74317 96463 5479521 6784512 7384595 7384696 7456129 709 39590 166 55133 3497419 67694 1300 5469728 55134 3817484 63072 3817542 158 176 5217 165 5479511 39591 69669 14564 100789 49911 3817489 3497570 9959 73725 21904 72006 72875',\n",
       " ('ТИТАН',\n",
       "  'app'): '7384660 7384696 7384659 14469 52657 60041 5479521 6692986 6784506 6784523 7326936 7384686 7384695 7384704 92 170 17194 20059 71781 84793 3821065 5477498 5479811 5997093 6692982 7048741 7054384 7384608 7384617 7384654 7384681 7454968 8007161 131 159 224 1597 1770 2271 2296 2494 6641 6877 7301 7375 8102 8285 9911 13585 14935',\n",
       " ('Быстроном',\n",
       "  'web'): '8004947 8004943 8004949 8004989 70299 6390514 165 14434 5477483 5477574 5482918 6693145 7048848 7105667 73 100 128 2628 6950 7401 7410 9690 13557 25830 26175 45496 50128 58010 67499 70899 95130 201174 4033745 4277095 5471575 5476828 5477038 5477042 5477454 5477467 5477569 5477573 5477911 5478316 6691119 6692167 6692790 6694716 6826906 7048641',\n",
       " ('Быстроном',\n",
       "  'app'): '8004989 5477467 8004943 165 8004964 8004947 8004988 176 6692167 166 2628 4277095 5478289 5482927 6390514 8004949 8004955 8005012 8004935 8005016 5477035 6692120 8004925 8005010 39591 46710 59126 70299 102932 5061498 5477480 6692780 6693016 6748227 7062248 8004967 8005006 1771 25516 25560 201946 5477454 5477483 5477574 5478246 6692168 7105081 8004952 8004953 9610',\n",
       " ('Фреш25',\n",
       "  'web'): '7104017 8004856 399 1598 2005 7406 9757 13560 16501 24273 25668 26333 26360 36155 37389 37452 38153 46755 53089 53132 53133 54467 57699 60214 65146 67205 67451 70953 76280 78212 85927 90907 95795 96545 1955230 3096241 3822658 4033744 5051323 5075115 6692277 6694654 6695231 6770922 6824072 6824073 7048722 7048775 7048842 7054124',\n",
       " ('Фреш25',\n",
       "  'app'): '5477789 7060644 461 1598 1985 5887 25198 38679 57494 66953 67499 95835 5477263 5477278 5997145 7048735 7341875 136 138 876 1590 1597 1818 2494 7406 9766 12844 16782 17194 17582 17583 17644 18909 20210 22547 22561 22977 24687 25240 26198 26200 28082 36402 37406 37412 38141 46290 46336 46377 46700',\n",
       " ('ЮгОпт',\n",
       "  'web'): '1984 1985 18939 20329 24659 30337 58357 64673 3086251 3105034 3105035 3866679 3868266 5566923 7029707 7042858 709 39590 166 55133 3497419 67694 1300 5469728 55134 3817484 63072 3817542 158 176 5217 165 5479511 39591 69669 14564 100789 49911 3817489 3497570 9959 73725 21904 72006 72875 94333 14630 21767 100 72011',\n",
       " ('ЮгОпт',\n",
       "  'app'): '39530 948 1985 2048 6715 6729 16875 16897 16908 17033 17196 18038 21652 36191 38137 57201 57202 58358 59072 94649 3086251 6697028 7048735 7062260 7062273 7323809 7324588 7326777 7328333 7367617 7367618 709 39590 166 55133 3497419 67694 1300 5469728 55134 3817484 63072 3817542 158 176 5217 165 5479511 39591 69669',\n",
       " ('Home Market',\n",
       "  'app'): '24339 7042881 2325 2491 8240 20553 24273 24390 36500 45457 45460 59656 66949 78943 79280 86386 93904 5060549 5060656 6003843 6698092 7042810 7054384 7063022 7063144 7326797 9130726 709 39590 166 55133 3497419 67694 1300 5469728 55134 3817484 63072 3817542 158 176 5217 165 5479511 39591 69669 14564 100789 49911 3817489',\n",
       " ('ВЕГА',\n",
       "  'web'): '3040239 3825864 180 16927 17316 18810 20215 21873 26171 29647 37223 45469 45592 47818 58358 58788 59222 59823 63872 65518 66881 67297 67499 67714 72580 73610 74371 84198 86274 105960 202196 2833743 4276790 5045928 5061339 5477325 5477338 6636274 7384440 709 39590 166 55133 3497419 67694 1300 5469728 55134 3817484 63072',\n",
       " ('ВЕГА',\n",
       "  'app'): '86847 13169 7326781 8546 13113 13114 13170 7384362 7459340 176 13108 13179 66952 202196 2562877 6770989 7043264 7054144 7054623 7055736 7384350 103 120 231 906 5685 5730 6347 7092 7374 7375 7844 8199 8266 8716 8717 8723 9603 9617 9901 13121 13163 13303 17194 17601 17751 18179 19184 19932 20210',\n",
       " ('Хороший',\n",
       "  'web'): '7043935 166 224 2300 6346 6371 7331 14925 21904 26339 29595 39569 39572 39589 39591 50128 63283 71174 71176 72196 75250 75252 77667 78535 90166 96358 201337 2834440 3818498 5488941 7000900 7032119 7043922 7043923 7043925 7043926 7043938 7043949 7043950 7043960 7043966 7043977 7043995 7063027 7105239 7367230 7367232 7384110 7407584 709',\n",
       " ('Хороший',\n",
       "  'app'): '166 7384130 7043935 7043949 7407583 61 2834410 2834440 224 7105035 7043922 5478043 7043975 7384079 21904 7043995 39591 7043926 7384089 7105152 7043973 50128 7105003 7384110 7384085 7043974 7105155 7328152 5469797 7043925 7043966 84098 7043917 7043938 7043955 4033461 19932 3051428 7043960 14833 3818498 7043923 7043979 1598 18723 201891 7367232 14296 36191 7341179',\n",
       " ('ИДЕЯ',\n",
       "  'web'): '63283 67326 87867 462 1309 1747 6403 9778 13728 18887 25217 25372 26334 27872 28036 28076 28163 38679 45447 45584 45585 47918 50128 57198 57621 58218 60072 60128 60679 67421 85925 95835 96016 96017 102518 102557 103160 202196 2834019 3862269 3883053 4277091 5044851 5051323 7000509 7029498 7048668 7055652 7060657 7062888',\n",
       " ('ИДЕЯ',\n",
       "  'app'): '202195 96321 202196 3041856 13113 13114 13180 46710 58169 60174 95294 5479376 286 1925 8546 13121 13169 18015 37126 37437 39591 45447 46671 50128 57173 60041 61313 61686 66953 71849 76577 76886 76970 3039832 3565482 5062856 7054213 7055871 7062257 7325142 9243581 266 285 288 1309 1598 1747 1771 1922 1985',\n",
       " ('КАРАВАН',\n",
       "  'web'): '39590 5060720 457 7092 15984 16731 16742 18028 20414 22976 26751 36310 37429 50128 51043 57135 58106 67955 70763 71429 77131 85873 101251 102932 201891 3818489 4277572 5060721 7030552 7054491 7055805 7062333 7996877 8000455 709 39590 166 55133 3497419 67694 1300 5469728 55134 3817484 63072 3817542 158 176 5217 165',\n",
       " ('КАРАВАН',\n",
       "  'app'): '7385138 152 170 57174 67116 86111 102932 3049861 7385179 176 261 14704 26751 37214 39590 45584 67584 67675 70409 78072 86515 91374 95618 95835 4205074 6003623 7029543 7056028 7385087 7385090 7385128 7385176 9211799 92 165 166 224 225 456 1309 1985 2271 6326 6371 7092 7375 7401 7443 7879 7880',\n",
       " ('ТЦ \"Новомариинский\" ',\n",
       "  'web'): '176 7092 39591 67035 3822684 709 39590 166 55133 3497419 67694 1300 5469728 55134 3817484 63072 3817542 158 176 5217 165 5479511 39591 69669 14564 100789 49911 3817489 3497570 9959 73725 21904 72006 72875 94333 14630 21767 100 72011 52657 72003 7397 7401 68465 687 39770 224 304 54728 66893',\n",
       " ('ТЦ \"Новомариинский\" ',\n",
       "  'app'): '176 7092 8004429 85879 7054137 8004426 13113 13181 39591 45613 57622 7054213 7054238 8004431 8004469 8004500 981 1867 4425 21450 45432 45584 46347 46379 51517 58130 58175 59792 59825 60325 63045 64213 64227 67025 67040 67693 74579 77271 102617 199643 2834750 3818553 4275981 5061339 5214960 5657393 6770631 7029868 7030233 7030235',\n",
       " ('Оптоклуб РЯДЫ',\n",
       "  'web'): '57892 74015 3601486 709 39590 166 55133 3497419 67694 1300 5469728 55134 3817484 63072 3817542 158 176 5217 165 5479511 39591 69669 14564 100789 49911 3817489 3497570 9959 73725 21904 72006 72875 94333 14630 21767 100 72011 52657 72003 7397 7401 68465 687 39770 224 304 54728 66893 981 10049',\n",
       " ('Оптоклуб РЯДЫ',\n",
       "  'app'): '6770227 709 39590 166 55133 3497419 67694 1300 5469728 55134 3817484 63072 3817542 158 176 5217 165 5479511 39591 69669 14564 100789 49911 3817489 3497570 9959 73725 21904 72006 72875 94333 14630 21767 100 72011 52657 72003 7397 7401 68465 687 39770 224 304 54728 66893 981 10049 7000939 77094',\n",
       " ('Столичный',\n",
       "  'web'): '130 1309 6768 59980 2586485 46369 66204 67222 70046 76874 2564091 6697453 7055652 172 1590 1598 1930 2270 9603 14510 16832 17223 18179 22108 25516 25946 26397 26751 27872 36156 45584 46717 49253 51330 52899 53023 57216 57500 57610 59126 59258 59844 59907 64607 64642 64850 66329 66893 66953 66961',\n",
       " ('Столичный',\n",
       "  'app'): '66893 67700 5478221 47152 57622 202182 3068647 8005648 1309 1597 9911 17328 18346 21873 26236 47122 57610 57621 70763 75926 96294 100372 1461757 3565879 4033743 4033776 4276018 5469811 5483289 6748729 7054376 7055760 7326823 180 286 288 1598 1930 1985 6729 6768 7331 9571 13560 13765 14202 17009 17691 18553 18596',\n",
       " ('ПАРУС',\n",
       "  'web'): '487 1908 2325 2491 5872 6907 9661 18081 20414 26174 45584 70183 72283 89549 95835 102364 103410 202006 4275833 5044944 7063082 7328214 7340960 7342947 7385551 7385597 7996433 7997098 7997223 9121506 709 39590 166 55133 3497419 67694 1300 5469728 55134 3817484 63072 3817542 158 176 5217 165 5479511 39591 69669 14564',\n",
       " ('ПАРУС',\n",
       "  'app'): '7385597 7385491 1985 201946 7385604 5657712 7385503 1611 38679 60716 7105081 7385475 7385511 7385544 7385660 7996307 7996867 7997093 9121531 285 8546 9842 14630 14661 26704 39590 45448 50128 58235 58373 60091 61977 64272 66961 71171 86767 95835 96217 96218 5045610 5074363 5470923 7029854 7054576 7062273 7064529 7326595 7327282 7341595 7385510',\n",
       " ('БЕГЕМАГ',\n",
       "  'web'): '37427 47780 60091 86028 5477714 6692188 7048708 7054574 7106090 7106092 9132356 9132379 9132462 709 39590 166 55133 3497419 67694 1300 5469728 55134 3817484 63072 3817542 158 176 5217 165 5479511 39591 69669 14564 100789 49911 3817489 3497570 9959 73725 21904 72006 72875 94333 14630 21767 100 72011 52657 72003 7397',\n",
       " ('БЕГЕМАГ',\n",
       "  'app'): '165 15593 26751 76407 9132356 9132462 166 286 21654 39589 45584 45589 57622 64307 3562688 5478126 6390640 7055653 92 176 875 1990 5769 9416 9714 9760 9950 13073 13074 13075 14466 14583 15997 16916 17196 17281 17685 18887 20215 20353 22501 24273 24394 24831 26184 26344 27563 39590 46651 46710',\n",
       " ('СберМаркет',\n",
       "  'web'): '73846 709 6341 6352 6370 22045 39572 46280 46710 57841 61029 67497 67819 69129 69661 75637 76069 78637 2833643 2835005 4276009 5073411 5657798 6692511 6692692 7014937 7014943 7030412 7060804 7060965 7107046 7393758 709 39590 166 55133 3497419 67694 1300 5469728 55134 3817484 63072 3817542 158 176 5217 165 5479511 39591',\n",
       " ('СберМаркет',\n",
       "  'app'): '165 21757 182 709 8320 14264 67203 75440 7036235 7081254 222 1230 1736 10274 13535 15593 15922 16731 21653 26200 28082 36148 36153 36509 45584 46905 46967 51096 57453 59843 60623 61029 62792 64121 64615 67030 69219 69661 69845 72282 73610 74065 78785 78871 95632 95719 99584 100458 100813 102163',\n",
       " ('СИГМА',\n",
       "  'web'): '14458 14564 4275810 709 39590 166 55133 3497419 67694 1300 5469728 55134 3817484 63072 3817542 158 176 5217 165 5479511 39591 69669 14564 100789 49911 3817489 3497570 9959 73725 21904 72006 72875 94333 14630 21767 100 72011 52657 72003 7397 7401 68465 687 39770 224 304 54728 66893 981 10049',\n",
       " ('СИГМА',\n",
       "  'app'): '4277388 7386099 66128 3045038 3052242 6750216 7062409 7386187 1925 2325 5636 8181 10198 17033 20188 21653 22562 22975 24348 24370 26676 26682 26683 29885 38717 39656 45435 46360 46742 46754 46966 47267 48431 48433 50128 60649 62341 63971 63997 65329 66961 69771 71146 71171 72132 72650 72811 74682 84198 86400',\n",
       " ('ДЕЯ',\n",
       "  'web'): '981 4277239 222 1992 2544 7399 9991 14299 14312 14322 14757 17009 17213 18421 24370 24831 25158 39590 51043 58032 64756 65417 70096 71404 75254 84319 91173 100173 201761 5044697 5046530 5046594 5046626 5046703 5075115 5481623 5481776 5566961 6565322 6694712 7048722 7054162 7054504 7055653 7081356 7340194 7347643 7347649 7347671 7396133',\n",
       " ('ДЕЯ',\n",
       "  'app'): '7347643 7347714 7347686 7347700 7347639 7347642 7347690 7347719 7347745 70479 4277239 7055653 7347659 7347675 7347681 7347770 7347779 166 225 7092 30034 50396 59056 59750 60008 66953 67422 71791 89851 198509 2586488 3863902 4277106 5061230 5476691 6691502 7048849 7106807 7340362 7347637 7347671 7347680 7347696 7347728 7347735 7347747 7347760 131 138 170',\n",
       " ('УДАЧНАЯ ПОКУПКА',\n",
       "  'web'): '61053 66893 66915 67693 5477480 7048722 1598 6029 13075 13181 14564 21636 27875 37476 37478 37516 38625 46347 52657 57029 57199 57346 58078 60128 60237 61225 64609 65690 67455 67550 67987 69313 70093 70096 75947 76290 76499 76981 85297 90141 93425 96253 99377 102319 103743 201025 2834953 3577474 3577475 3818740',\n",
       " ('УДАЧНАЯ ПОКУПКА',\n",
       "  'app'): '8000464 66893 5478202 7385772 8000534 8000614 61053 8000447 14469 2586485 8000476 8000608 17009 18409 57199 57346 57632 57642 60853 67550 70096 76540 5477480 5657712 7062344 7325223 7385771 8000300 8000465 8000479 8000624 8001107 170 1598 2305 2482 6369 7092 7375 8248 9496 9901 10193 16896 17203 17321 17328 18015 20059 28055',\n",
       " ('ТД ХОРОШИЙ',\n",
       "  'web'): '20064 28048 60054 22561 46948 57317 57672 85026 91066 6692311 7054587 107 131 176 1652 7092 13618 14446 14630 18014 18887 19986 19989 24273 25516 25651 26334 26338 27914 37167 37214 50128 50218 57468 57486 59453 60055 64642 67416 69264 69811 75926 76289 77739 90072 93648 94334 95786 102932 202212',\n",
       " ('ТД ХОРОШИЙ',\n",
       "  'app'): '176 5476534 29553 876 58170 96439 7048641 1652 38679 38753 46347 50128 58082 71308 86251 102932 202015 3565880 4277090 7048654 7055147 7341874 7348017 240 14469 14630 16900 17197 20191 26676 36264 39530 39591 46669 46710 50103 57387 57706 58169 58708 63583 64227 67352 68355 70484 70763 74015 76624 76849 77339',\n",
       " ('Забайкальский Привозъ',\n",
       "  'web'): '9690 198667 9645 66893 66915 7385253 7724794 7724795 6429 8986 9496 20462 27873 36509 36846 47780 59094 65641 72795 4033743 5477979 6691716 6784772 7104331 8015014 709 39590 166 55133 3497419 67694 1300 5469728 55134 3817484 63072 3817542 158 176 5217 165 5479511 39591 69669 14564 100789 49911 3817489 3497570 9959',\n",
       " ('Забайкальский Привозъ',\n",
       "  'app'): '20059 27263 6429 14264 14728 17033 17281 18733 25087 26344 36423 38305 45260 47780 54719 57566 57622 59920 60125 61283 66915 67297 67662 70647 76652 86519 86649 96016 96017 96253 101254 102271 2061789 3064257 4277451 5045949 6694878 6694879 7062554 7062672 7328893 709 39590 166 55133 3497419 67694 1300 5469728 55134',\n",
       " ('Мегас',\n",
       "  'app'): '14827 14832 25139 26704 28018 39589 46669 46672 57329 57330 57331 64165 68465 74451 7063082 709 39590 166 55133 3497419 67694 1300 5469728 55134 3817484 63072 3817542 158 176 5217 165 5479511 39591 69669 14564 100789 49911 3817489 3497570 9959 73725 21904 72006 72875 94333 14630 21767 100 72011 52657',\n",
       " ('МаксМаркет',\n",
       "  'web'): '66893 36153 14005 14020 17196 25475 36148 36149 37220 37221 37222 64618 64642 69689 70370 72307 85932 96176 96296 105845 4276060 5045262 5046279 5060880 5063307 6003711 6005128 6695061 6749556 7055509 7055517 7107302 7324502 7342864 8000476 709 39590 166 55133 3497419 67694 1300 5469728 55134 3817484 63072 3817542 158 176 5217',\n",
       " ('МаксМаркет',\n",
       "  'app'): '1598 9267689 60128 67693 8000473 8158938 170 8546 57199 7325632 8000534 9267688 1532 1727 6511 13073 13074 13113 20767 25641 46887 57690 60616 96274 96275 96363 5997093 7062319 7324132 7325223 7996673 8000476 8000517 9122946 9267643 181 1597 2048 6795 7092 8553 9760 9901 13071 13143 14469 14472 14512 14513 16646',\n",
       " ('Шан',\n",
       "  'web'): '7895 25157 45481 45559 57169 67048 2834846 7048722 7062749 8159111 9368658 709 39590 166 55133 3497419 67694 1300 5469728 55134 3817484 63072 3817542 158 176 5217 165 5479511 39591 69669 14564 100789 49911 3817489 3497570 9959 73725 21904 72006 72875 94333 14630 21767 100 72011 52657 72003 7397 7401 68465',\n",
       " ('Шан',\n",
       "  'app'): '18734 86517 176 825 13113 17752 18733 18735 24390 24634 26334 26698 36500 57812 60125 60215 60246 67108 67109 67203 67550 69055 72347 82914 93221 93904 95801 99610 102271 201697 3068647 3818741 3855061 4276606 4592880 5071937 5074246 5474257 6375463 6375464 6692394 6694878 6694879 6696245 6697359 6749533 6770470 6784349 7032492 7054238',\n",
       " ('СЕДЬМАЯ СТОЛИЦА',\n",
       "  'web'): '7384973 137 138 166 13785 16731 21540 21652 24490 27875 51440 58032 69811 73200 84174 89710 104964 202038 3047050 3073830 4275583 5045633 5060627 7030022 7042580 7043034 7324481 7327396 7341600 7385023 709 39590 166 55133 3497419 67694 1300 5469728 55134 3817484 63072 3817542 158 176 5217 165 5479511 39591 69669 14564',\n",
       " ('СЕДЬМАЯ СТОЛИЦА',\n",
       "  'app'): '7384973 1598 47647 7055871 7384979 102 176 461 2494 5887 6757 7092 8697 14298 14299 14583 14770 16608 18028 18377 18887 21867 24843 26589 27337 36122 36480 39591 47106 48288 48291 57630 58010 58218 58235 62659 64051 65660 65990 66893 66952 68476 69016 69091 69264 70414 70970 75545 76441 77405',\n",
       " ('Осень',\n",
       "  'app'): '20316 72170 5074392 1590 1785 5154 12855 14385 17145 22562 25560 37476 38150 47106 59958 60174 65657 66893 66967 67550 70088 73957 76627 76877 96530 102513 2834407 3051428 5060274 6696821 6771267 7054451 7060644 7062258 7327573 709 39590 166 55133 3497419 67694 1300 5469728 55134 3817484 63072 3817542 158 176 5217',\n",
       " ('АУТЛЕТ',\n",
       "  'web'): '6390761 7541 7960 8309 13585 21654 24900 29617 29988 30188 37405 45911 50128 57840 59661 59980 72282 85336 95606 101575 103489 103799 3847853 3863528 5061072 5074105 5217130 5488905 5657835 5997089 6691461 7008310 7033323 7054943 7055889 7063075 7063081 7325306 7409912 709 39590 166 55133 3497419 67694 1300 5469728 55134 3817484 63072',\n",
       " ('АУТЛЕТ',\n",
       "  'app'): '67550 7409873 67205 7104495 432 25516 28045 37190 54467 58016 59844 60257 61397 65417 67032 67555 67987 70412 85720 103488 103489 201946 2834408 2834409 3828661 3858283 4275731 5045771 5045920 5051323 5470939 5477278 5477292 5479506 5997199 6003563 6692282 6694816 6694941 6695073 7054138 7055586 7055615 7062422 7062456 7104654 7326893 7326938 7327282 7329562',\n",
       " ('ТЦ STOЛИЦА',\n",
       "  'app'): '7054830 5579 13484 18351 21939 22108 28006 28077 45559 85261 4204274 6003856 6695605 7054956 7104403 709 39590 166 55133 3497419 67694 1300 5469728 55134 3817484 63072 3817542 158 176 5217 165 5479511 39591 69669 14564 100789 49911 3817489 3497570 9959 73725 21904 72006 72875 94333 14630 21767 100 72011 52657',\n",
       " ('Улыбка Радуги',\n",
       "  'app'): '9190006 709 39590 166 55133 3497419 67694 1300 5469728 55134 3817484 63072 3817542 158 176 5217 165 5479511 39591 69669 14564 100789 49911 3817489 3497570 9959 73725 21904 72006 72875 94333 14630 21767 100 72011 52657 72003 7397 7401 68465 687 39770 224 304 54728 66893 981 10049 7000939 77094',\n",
       " ('АГРОКОМПЛЕКС',\n",
       "  'web'): '9136629 9136772 709 39590 166 55133 3497419 67694 1300 5469728 55134 3817484 63072 3817542 158 176 5217 165 5479511 39591 69669 14564 100789 49911 3817489 3497570 9959 73725 21904 72006 72875 94333 14630 21767 100 72011 52657 72003 7397 7401 68465 687 39770 224 304 54728 66893 981 10049 7000939'}"
      ]
     },
     "execution_count": 69,
     "metadata": {},
     "output_type": "execute_result"
    }
   ],
   "source": [
    "top_50_per_retailer_and_platform = fill_to_50(top_50_per_retailer_and_platform, top_50_products)\n",
    "top_50_products_per_retailer = fill_to_50(top_50_products_per_retailer, top_50_products)\n",
    "top_50_products_per_platform = fill_to_50(top_50_products_per_platform, top_50_products)\n",
    "top_50_products_str = ' '.join(list(str(x) for x in top_50_products))\n",
    "top_50_per_retailer_and_platform"
   ]
  },
  {
   "cell_type": "code",
   "execution_count": 97,
   "metadata": {},
   "outputs": [],
   "source": [
    "# top_50_products\n",
    "# top_50_products_per_retailer\n",
    "# top_50_products_per_platform\n",
    "# top_50_per_retailer_and_platform\n",
    "def predict(row):\n",
    "    return top_50_products_str\n",
    "#     retailer = row['retailer']\n",
    "#     platform = row['platform']\n",
    "#     if type(retailer) != str and  type(platform) != str:\n",
    "#         if math.isnan(retailer) and math.isnan(platform):\n",
    "#             return top_50_products_str\n",
    "#         elif math.isnan(retailer):\n",
    "#             return top_50_products_per_retailer[retailer]\n",
    "#         elif math.isnan(platform) or platform == 'undefined':\n",
    "#             return top_50_products_per_platform[platform]\n",
    "#         else:\n",
    "#             return top_50_per_retailer_and_platform[(retailer,platform)]\n",
    "#     elif platform == 'undefined':\n",
    "#         return top_50_products_str\n",
    "#     elif retailer not in retailers:\n",
    "#         top_50_products_per_platform[platform]\n",
    "#     else:\n",
    "#         return top_50_per_retailer_and_platform[(retailer,platform)]"
   ]
  },
  {
   "cell_type": "code",
   "execution_count": 98,
   "metadata": {},
   "outputs": [],
   "source": [
    "#Get Prediction "
   ]
  },
  {
   "cell_type": "code",
   "execution_count": 49,
   "metadata": {},
   "outputs": [],
   "source": [
    "df_predict = df_sample_submission.merge(df_orders, how=\"left\", left_on=\"Id\", right_on=\"user_id\")"
   ]
  },
  {
   "cell_type": "code",
   "execution_count": 50,
   "metadata": {},
   "outputs": [],
   "source": [
    "df_predict.dropna(subset=['Id'],inplace=True)"
   ]
  },
  {
   "cell_type": "code",
   "execution_count": 51,
   "metadata": {},
   "outputs": [],
   "source": [
    "import math"
   ]
  },
  {
   "cell_type": "code",
   "execution_count": 52,
   "metadata": {},
   "outputs": [],
   "source": [
    "df_predict['old_predicted'] = df_predict['Predicted']"
   ]
  },
  {
   "cell_type": "code",
   "execution_count": 53,
   "metadata": {},
   "outputs": [
    {
     "data": {
      "text/plain": [
       "2830"
      ]
     },
     "execution_count": 53,
     "metadata": {},
     "output_type": "execute_result"
    }
   ],
   "source": [
    "df_predict['order_created_time'].isnull().sum()"
   ]
  },
  {
   "cell_type": "code",
   "execution_count": 54,
   "metadata": {},
   "outputs": [],
   "source": [
    "df_predict.dropna(subset=[\"order_created_time\"], inplace=True)"
   ]
  },
  {
   "cell_type": "code",
   "execution_count": 55,
   "metadata": {},
   "outputs": [],
   "source": [
    "import datetime \n",
    "date_before = datetime.datetime.strptime(\"2020-09-17 00:00:00\", '%Y-%m-%d %H:%M:%S')\n",
    "df_predict['datetime'] = df_predict[\"order_created_time\"].apply(lambda t: datetime.datetime.strptime(t, '%Y-%m-%d %H:%M:%S'))"
   ]
  },
  {
   "cell_type": "code",
   "execution_count": 56,
   "metadata": {},
   "outputs": [],
   "source": [
    "clean_df_predict = df_predict[df_predict.datetime > date_before].sort_values(by=[\"user_id\",\"order_created_time\"]).drop_duplicates(subset=['user_id'], keep='first')"
   ]
  },
  {
   "cell_type": "code",
   "execution_count": 57,
   "metadata": {},
   "outputs": [
    {
     "data": {
      "text/plain": [
       "(45055, 10)"
      ]
     },
     "execution_count": 57,
     "metadata": {},
     "output_type": "execute_result"
    }
   ],
   "source": [
    "clean_df_predict.shape"
   ]
  },
  {
   "cell_type": "code",
   "execution_count": 99,
   "metadata": {},
   "outputs": [],
   "source": [
    "clean_df_predict['Predicted_new'] = clean_df_predict.apply(predict,axis=1)"
   ]
  },
  {
   "cell_type": "code",
   "execution_count": 100,
   "metadata": {},
   "outputs": [
    {
     "data": {
      "text/html": [
       "<div>\n",
       "<style scoped>\n",
       "    .dataframe tbody tr th:only-of-type {\n",
       "        vertical-align: middle;\n",
       "    }\n",
       "\n",
       "    .dataframe tbody tr th {\n",
       "        vertical-align: top;\n",
       "    }\n",
       "\n",
       "    .dataframe thead th {\n",
       "        text-align: right;\n",
       "    }\n",
       "</style>\n",
       "<table border=\"1\" class=\"dataframe\">\n",
       "  <thead>\n",
       "    <tr style=\"text-align: right;\">\n",
       "      <th></th>\n",
       "      <th>Id</th>\n",
       "      <th>Predicted</th>\n",
       "      <th>user_id</th>\n",
       "      <th>order_id</th>\n",
       "      <th>order_created_time</th>\n",
       "      <th>retailer</th>\n",
       "      <th>store_id</th>\n",
       "      <th>platform</th>\n",
       "      <th>old_predicted</th>\n",
       "      <th>datetime</th>\n",
       "      <th>Predicted_new</th>\n",
       "    </tr>\n",
       "  </thead>\n",
       "  <tbody>\n",
       "    <tr>\n",
       "      <th>164191</th>\n",
       "      <td>576</td>\n",
       "      <td>12914417 6741079 2919862 7013351 5313983 10341...</td>\n",
       "      <td>576.0</td>\n",
       "      <td>17151229.0</td>\n",
       "      <td>2020-09-22 10:58:26</td>\n",
       "      <td>SELGROS</td>\n",
       "      <td>4.0</td>\n",
       "      <td>app</td>\n",
       "      <td>12914417 6741079 2919862 7013351 5313983 10341...</td>\n",
       "      <td>2020-09-22 10:58:26</td>\n",
       "      <td>709 39590 166 55133 3497419 67694 1300 5469728...</td>\n",
       "    </tr>\n",
       "    <tr>\n",
       "      <th>825688</th>\n",
       "      <td>608</td>\n",
       "      <td>4611932 5054228 5772112 6104709 951918 939069 ...</td>\n",
       "      <td>608.0</td>\n",
       "      <td>16955655.0</td>\n",
       "      <td>2020-09-19 03:43:50</td>\n",
       "      <td>Ашан</td>\n",
       "      <td>171.0</td>\n",
       "      <td>web</td>\n",
       "      <td>4611932 5054228 5772112 6104709 951918 939069 ...</td>\n",
       "      <td>2020-09-19 03:43:50</td>\n",
       "      <td>709 39590 166 55133 3497419 67694 1300 5469728...</td>\n",
       "    </tr>\n",
       "    <tr>\n",
       "      <th>24</th>\n",
       "      <td>766</td>\n",
       "      <td>12773054 3692749 12726751 10041624 11893515 23...</td>\n",
       "      <td>766.0</td>\n",
       "      <td>16926225.0</td>\n",
       "      <td>2020-09-18 12:16:57</td>\n",
       "      <td>METRO</td>\n",
       "      <td>2.0</td>\n",
       "      <td>web</td>\n",
       "      <td>12773054 3692749 12726751 10041624 11893515 23...</td>\n",
       "      <td>2020-09-18 12:16:57</td>\n",
       "      <td>709 39590 166 55133 3497419 67694 1300 5469728...</td>\n",
       "    </tr>\n",
       "    <tr>\n",
       "      <th>597428</th>\n",
       "      <td>1012</td>\n",
       "      <td>887314 8900863 205146 8282385 7896668 8582316 ...</td>\n",
       "      <td>1012.0</td>\n",
       "      <td>17546773.0</td>\n",
       "      <td>2020-09-27 19:32:17</td>\n",
       "      <td>METRO</td>\n",
       "      <td>10.0</td>\n",
       "      <td>web</td>\n",
       "      <td>887314 8900863 205146 8282385 7896668 8582316 ...</td>\n",
       "      <td>2020-09-27 19:32:17</td>\n",
       "      <td>709 39590 166 55133 3497419 67694 1300 5469728...</td>\n",
       "    </tr>\n",
       "    <tr>\n",
       "      <th>922038</th>\n",
       "      <td>1474</td>\n",
       "      <td>2849273 10954858 9809344 3641089 9850289 13386...</td>\n",
       "      <td>1474.0</td>\n",
       "      <td>17221664.0</td>\n",
       "      <td>2020-09-23 14:25:34</td>\n",
       "      <td>Ашан</td>\n",
       "      <td>172.0</td>\n",
       "      <td>app</td>\n",
       "      <td>2849273 10954858 9809344 3641089 9850289 13386...</td>\n",
       "      <td>2020-09-23 14:25:34</td>\n",
       "      <td>709 39590 166 55133 3497419 67694 1300 5469728...</td>\n",
       "    </tr>\n",
       "  </tbody>\n",
       "</table>\n",
       "</div>"
      ],
      "text/plain": [
       "          Id                                          Predicted  user_id  \\\n",
       "164191   576  12914417 6741079 2919862 7013351 5313983 10341...    576.0   \n",
       "825688   608  4611932 5054228 5772112 6104709 951918 939069 ...    608.0   \n",
       "24       766  12773054 3692749 12726751 10041624 11893515 23...    766.0   \n",
       "597428  1012  887314 8900863 205146 8282385 7896668 8582316 ...   1012.0   \n",
       "922038  1474  2849273 10954858 9809344 3641089 9850289 13386...   1474.0   \n",
       "\n",
       "          order_id   order_created_time retailer  store_id platform  \\\n",
       "164191  17151229.0  2020-09-22 10:58:26  SELGROS       4.0      app   \n",
       "825688  16955655.0  2020-09-19 03:43:50     Ашан     171.0      web   \n",
       "24      16926225.0  2020-09-18 12:16:57    METRO       2.0      web   \n",
       "597428  17546773.0  2020-09-27 19:32:17    METRO      10.0      web   \n",
       "922038  17221664.0  2020-09-23 14:25:34     Ашан     172.0      app   \n",
       "\n",
       "                                            old_predicted            datetime  \\\n",
       "164191  12914417 6741079 2919862 7013351 5313983 10341... 2020-09-22 10:58:26   \n",
       "825688  4611932 5054228 5772112 6104709 951918 939069 ... 2020-09-19 03:43:50   \n",
       "24      12773054 3692749 12726751 10041624 11893515 23... 2020-09-18 12:16:57   \n",
       "597428  887314 8900863 205146 8282385 7896668 8582316 ... 2020-09-27 19:32:17   \n",
       "922038  2849273 10954858 9809344 3641089 9850289 13386... 2020-09-23 14:25:34   \n",
       "\n",
       "                                            Predicted_new  \n",
       "164191  709 39590 166 55133 3497419 67694 1300 5469728...  \n",
       "825688  709 39590 166 55133 3497419 67694 1300 5469728...  \n",
       "24      709 39590 166 55133 3497419 67694 1300 5469728...  \n",
       "597428  709 39590 166 55133 3497419 67694 1300 5469728...  \n",
       "922038  709 39590 166 55133 3497419 67694 1300 5469728...  "
      ]
     },
     "execution_count": 100,
     "metadata": {},
     "output_type": "execute_result"
    }
   ],
   "source": [
    "clean_df_predict.head()"
   ]
  },
  {
   "cell_type": "code",
   "execution_count": 101,
   "metadata": {},
   "outputs": [],
   "source": [
    "df_sample_submission = df_sample_submission.merge(clean_df_predict[[\"user_id\",\"Predicted_new\"]], how=\"outer\", left_on=\"Id\", right_on=\"user_id\")"
   ]
  },
  {
   "cell_type": "code",
   "execution_count": 102,
   "metadata": {},
   "outputs": [],
   "source": [
    "def fillnans(p):\n",
    "    if type(p) == str:\n",
    "        return p\n",
    "    elif p is None or math.isnan(p):\n",
    "        return top_50_products_str\n",
    "    else:\n",
    "        return top_50_products_str\n",
    "    \n",
    "df_sample_submission['Predicted_new'] = df_sample_submission['Predicted_new'].apply(fillnans)"
   ]
  },
  {
   "cell_type": "code",
   "execution_count": 103,
   "metadata": {},
   "outputs": [],
   "source": [
    "df_sample_submission[\"Predicted\"] = df_sample_submission[\"Predicted_new\"]\n",
    "df_sample_submission = df_sample_submission.drop([\"Predicted_new\", \"user_id\"],axis=1)\n",
    "\n",
    "df_sample_submission.to_csv('predictions2.csv', index=False)"
   ]
  },
  {
   "cell_type": "code",
   "execution_count": 91,
   "metadata": {},
   "outputs": [],
   "source": [
    "df_sample_submission.dropna(subset=[\"Id\"], inplace=True)"
   ]
  },
  {
   "cell_type": "code",
   "execution_count": 93,
   "metadata": {},
   "outputs": [
    {
     "data": {
      "text/html": [
       "<div>\n",
       "<style scoped>\n",
       "    .dataframe tbody tr th:only-of-type {\n",
       "        vertical-align: middle;\n",
       "    }\n",
       "\n",
       "    .dataframe tbody tr th {\n",
       "        vertical-align: top;\n",
       "    }\n",
       "\n",
       "    .dataframe thead th {\n",
       "        text-align: right;\n",
       "    }\n",
       "</style>\n",
       "<table border=\"1\" class=\"dataframe\">\n",
       "  <thead>\n",
       "    <tr style=\"text-align: right;\">\n",
       "      <th></th>\n",
       "      <th>Id</th>\n",
       "      <th>Predicted</th>\n",
       "    </tr>\n",
       "  </thead>\n",
       "  <tbody>\n",
       "    <tr>\n",
       "      <th>0</th>\n",
       "      <td>51</td>\n",
       "      <td>709 39590 166 55133 3497419 67694 1300 5469728...</td>\n",
       "    </tr>\n",
       "    <tr>\n",
       "      <th>1</th>\n",
       "      <td>65</td>\n",
       "      <td>709 39590 166 55133 3497419 67694 1300 5469728...</td>\n",
       "    </tr>\n",
       "    <tr>\n",
       "      <th>2</th>\n",
       "      <td>766</td>\n",
       "      <td>709 55133 1300 55134 3817542 63072 3817484 546...</td>\n",
       "    </tr>\n",
       "    <tr>\n",
       "      <th>3</th>\n",
       "      <td>1132</td>\n",
       "      <td>709 39590 166 55133 3497419 67694 1300 5469728...</td>\n",
       "    </tr>\n",
       "    <tr>\n",
       "      <th>4</th>\n",
       "      <td>1578</td>\n",
       "      <td>88103 88074 3817735 88073 88025 88295 97616 88...</td>\n",
       "    </tr>\n",
       "  </tbody>\n",
       "</table>\n",
       "</div>"
      ],
      "text/plain": [
       "     Id                                          Predicted\n",
       "0    51  709 39590 166 55133 3497419 67694 1300 5469728...\n",
       "1    65  709 39590 166 55133 3497419 67694 1300 5469728...\n",
       "2   766  709 55133 1300 55134 3817542 63072 3817484 546...\n",
       "3  1132  709 39590 166 55133 3497419 67694 1300 5469728...\n",
       "4  1578  88103 88074 3817735 88073 88025 88295 97616 88..."
      ]
     },
     "execution_count": 93,
     "metadata": {},
     "output_type": "execute_result"
    }
   ],
   "source": [
    "df_sample_submission.head()"
   ]
  },
  {
   "cell_type": "code",
   "execution_count": 94,
   "metadata": {},
   "outputs": [],
   "source": [
    "df_sample_submission_sample = pd.read_csv('sample_submission.csv')"
   ]
  },
  {
   "cell_type": "code",
   "execution_count": 82,
   "metadata": {},
   "outputs": [
    {
     "data": {
      "text/html": [
       "<div>\n",
       "<style scoped>\n",
       "    .dataframe tbody tr th:only-of-type {\n",
       "        vertical-align: middle;\n",
       "    }\n",
       "\n",
       "    .dataframe tbody tr th {\n",
       "        vertical-align: top;\n",
       "    }\n",
       "\n",
       "    .dataframe thead th {\n",
       "        text-align: right;\n",
       "    }\n",
       "</style>\n",
       "<table border=\"1\" class=\"dataframe\">\n",
       "  <thead>\n",
       "    <tr style=\"text-align: right;\">\n",
       "      <th></th>\n",
       "      <th>Id</th>\n",
       "      <th>Predicted</th>\n",
       "    </tr>\n",
       "  </thead>\n",
       "  <tbody>\n",
       "    <tr>\n",
       "      <th>0</th>\n",
       "      <td>51</td>\n",
       "      <td>3239211 10720024 8493844 1965540 5009002 95218...</td>\n",
       "    </tr>\n",
       "    <tr>\n",
       "      <th>1</th>\n",
       "      <td>65</td>\n",
       "      <td>11693356 13392267 2464515 2245175 4748570 1134...</td>\n",
       "    </tr>\n",
       "    <tr>\n",
       "      <th>2</th>\n",
       "      <td>766</td>\n",
       "      <td>12773054 3692749 12726751 10041624 11893515 23...</td>\n",
       "    </tr>\n",
       "    <tr>\n",
       "      <th>3</th>\n",
       "      <td>1132</td>\n",
       "      <td>8613934 3599065 575614 4821474 11609320 699047...</td>\n",
       "    </tr>\n",
       "    <tr>\n",
       "      <th>4</th>\n",
       "      <td>1578</td>\n",
       "      <td>289404 4328240 3129788 9390886 11166655 173077...</td>\n",
       "    </tr>\n",
       "  </tbody>\n",
       "</table>\n",
       "</div>"
      ],
      "text/plain": [
       "     Id                                          Predicted\n",
       "0    51  3239211 10720024 8493844 1965540 5009002 95218...\n",
       "1    65  11693356 13392267 2464515 2245175 4748570 1134...\n",
       "2   766  12773054 3692749 12726751 10041624 11893515 23...\n",
       "3  1132  8613934 3599065 575614 4821474 11609320 699047...\n",
       "4  1578  289404 4328240 3129788 9390886 11166655 173077..."
      ]
     },
     "execution_count": 82,
     "metadata": {},
     "output_type": "execute_result"
    }
   ],
   "source": [
    "df_sample_submission_sample.pr()"
   ]
  },
  {
   "cell_type": "code",
   "execution_count": 96,
   "metadata": {},
   "outputs": [
    {
     "name": "stdout",
     "output_type": "stream",
     "text": [
      "<class 'pandas.core.frame.DataFrame'>\n",
      "Int64Index: 107068 entries, 0 to 107067\n",
      "Data columns (total 2 columns):\n",
      " #   Column     Non-Null Count   Dtype \n",
      "---  ------     --------------   ----- \n",
      " 0   Id         107068 non-null  int64 \n",
      " 1   Predicted  107068 non-null  object\n",
      "dtypes: int64(1), object(1)\n",
      "memory usage: 2.5+ MB\n"
     ]
    }
   ],
   "source": [
    "df_sample_submission.info()"
   ]
  },
  {
   "cell_type": "code",
   "execution_count": null,
   "metadata": {},
   "outputs": [],
   "source": []
  }
 ],
 "metadata": {
  "kernelspec": {
   "display_name": "Python 3",
   "language": "python",
   "name": "python3"
  },
  "language_info": {
   "codemirror_mode": {
    "name": "ipython",
    "version": 3
   },
   "file_extension": ".py",
   "mimetype": "text/x-python",
   "name": "python",
   "nbconvert_exporter": "python",
   "pygments_lexer": "ipython3",
   "version": "3.8.3"
  }
 },
 "nbformat": 4,
 "nbformat_minor": 1
}
