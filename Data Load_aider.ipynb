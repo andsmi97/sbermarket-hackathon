{
 "cells": [
  {
   "cell_type": "code",
   "execution_count": 1,
   "metadata": {},
   "outputs": [],
   "source": [
    "#from matplotlib import pyplot as plt\n",
    "#%matplotlib inline"
   ]
  },
  {
   "cell_type": "code",
   "execution_count": 2,
   "metadata": {},
   "outputs": [],
   "source": [
    "import pandas as pd"
   ]
  },
  {
   "cell_type": "code",
   "execution_count": 3,
   "metadata": {},
   "outputs": [],
   "source": [
    "#df_test = pd.read_csv('sample_submission.csv')"
   ]
  },
  {
   "cell_type": "code",
   "execution_count": 4,
   "metadata": {},
   "outputs": [
    {
     "name": "stdout",
     "output_type": "stream",
     "text": [
      "CPU times: user 1min 27s, sys: 12.4 s, total: 1min 40s\n",
      "Wall time: 1min 45s\n"
     ]
    }
   ],
   "source": [
    "%%time\n",
    "products_tables = [\n",
    "  'tab_2_products_2020-01-01.csv',\n",
    "  'tab_2_products_2020-01-11.csv',\n",
    "  'tab_2_products_2020-01-21.csv',\n",
    "  'tab_2_products_2020-01-31.csv',\n",
    "  'tab_2_products_2020-02-10.csv',\n",
    "  'tab_2_products_2020-03-01.csv',\n",
    "  'tab_2_products_2020-03-11.csv',\n",
    "  'tab_2_products_2020-03-21.csv',\n",
    "  'tab_2_products_2020-03-31.csv',\n",
    "  'tab_2_products_2020-04-10.csv',\n",
    "  'tab_2_products_2020-04-20.csv',\n",
    "  'tab_2_products_2020-04-30.csv',\n",
    "  'tab_2_products_2020-05-20.csv',\n",
    "  'tab_2_products_2020-05-30.csv',\n",
    "  'tab_2_products_2020-06-09.csv',\n",
    "  'tab_2_products_2020-06-19.csv',\n",
    "  'tab_2_products_2020-06-29.csv',\n",
    "  'tab_2_products_2020-07-19.csv',\n",
    "  'tab_2_products_2020-07-29.csv',\n",
    "  'tab_2_products_2020-08-08.csv',\n",
    "  'tab_2_products_2020-08-18.csv',\n",
    "  'tab_2_products_2020-08-28.csv',\n",
    "  'tab_2_products_2020-09-07.csv',\n",
    "]\n",
    "\n",
    "df_products = []\n",
    "for i,product_table in enumerate(products_tables):\n",
    "    df_products.append(pd.read_csv(product_table))"
   ]
  },
  {
   "cell_type": "code",
   "execution_count": 5,
   "metadata": {},
   "outputs": [
    {
     "name": "stdout",
     "output_type": "stream",
     "text": [
      "CPU times: user 4.29 s, sys: 6.33 s, total: 10.6 s\n",
      "Wall time: 10.6 s\n"
     ]
    }
   ],
   "source": [
    "%%time\n",
    "df_full_products = pd.concat([*df_products])"
   ]
  },
  {
   "cell_type": "code",
   "execution_count": 6,
   "metadata": {},
   "outputs": [
    {
     "data": {
      "text/plain": [
       "\"df_orders = pd.read_csv('tab_1_orders.csv')\\n\\ndf_categories = pd.read_csv('tab_3_categories.csv')\\n\\ndf_user_profiles = pd.read_csv('tab_4_user_profiles.csv')\\n\\ndf_product_properties = pd.read_csv('tab_5_product_properties.csv')\\n\\ndf_city = pd.read_csv('tab_6_city.csv')\\n\\ndf_sample_submission = pd.read_csv('sample_submission.csv')\""
      ]
     },
     "execution_count": 6,
     "metadata": {},
     "output_type": "execute_result"
    }
   ],
   "source": [
    "'''df_orders = pd.read_csv('tab_1_orders.csv')\n",
    "\n",
    "df_categories = pd.read_csv('tab_3_categories.csv')\n",
    "\n",
    "df_user_profiles = pd.read_csv('tab_4_user_profiles.csv')\n",
    "\n",
    "df_product_properties = pd.read_csv('tab_5_product_properties.csv')\n",
    "\n",
    "df_city = pd.read_csv('tab_6_city.csv')\n",
    "\n",
    "df_sample_submission = pd.read_csv('sample_submission.csv')'''"
   ]
  },
  {
   "cell_type": "code",
   "execution_count": 7,
   "metadata": {},
   "outputs": [],
   "source": [
    "#df_full_products.info()"
   ]
  },
  {
   "cell_type": "code",
   "execution_count": 8,
   "metadata": {},
   "outputs": [],
   "source": [
    "#del df_orders, df_categories, df_user_profiles, df_product_properties, df_city"
   ]
  },
  {
   "cell_type": "code",
   "execution_count": 16,
   "metadata": {},
   "outputs": [
    {
     "data": {
      "text/plain": [
       "(51496742, 11)"
      ]
     },
     "execution_count": 16,
     "metadata": {},
     "output_type": "execute_result"
    }
   ],
   "source": [
    "df_full_products.shape"
   ]
  },
  {
   "cell_type": "code",
   "execution_count": 15,
   "metadata": {},
   "outputs": [
    {
     "data": {
      "text/plain": [
       "user_id                     0\n",
       "order_id                    0\n",
       "line_item_id                0\n",
       "price                       0\n",
       "quantity                    0\n",
       "discount                    0\n",
       "product_name               25\n",
       "product_id                  0\n",
       "brand_name            1253849\n",
       "master_category_id       9768\n",
       "parent_category_id          0\n",
       "dtype: int64"
      ]
     },
     "execution_count": 15,
     "metadata": {},
     "output_type": "execute_result"
    }
   ],
   "source": [
    "%%time\n",
    "df_full_products.isnull().sum()"
   ]
  },
  {
   "cell_type": "code",
   "execution_count": 11,
   "metadata": {},
   "outputs": [],
   "source": [
    "# delete all rows with df_products['product_id'] == 0\n",
    "df_full_products = df_full_products[df_full_products['product_id'] != 0]"
   ]
  },
  {
   "cell_type": "code",
   "execution_count": 12,
   "metadata": {},
   "outputs": [
    {
     "data": {
      "text/plain": [
       "(51496742, 11)"
      ]
     },
     "execution_count": 12,
     "metadata": {},
     "output_type": "execute_result"
    }
   ],
   "source": [
    "df_full_products.shape"
   ]
  },
  {
   "cell_type": "code",
   "execution_count": 19,
   "metadata": {},
   "outputs": [
    {
     "name": "stdout",
     "output_type": "stream",
     "text": [
      "CPU times: user 27.6 s, sys: 3.3 s, total: 30.9 s\n",
      "Wall time: 30.3 s\n"
     ]
    },
    {
     "data": {
      "text/plain": [
       "(51496742, 4)"
      ]
     },
     "execution_count": 19,
     "metadata": {},
     "output_type": "execute_result"
    }
   ],
   "source": [
    "%%time\n",
    "df_full_products['discount'] = df_full_products['discount'].apply(lambda x:max(0, x))\n",
    "df_full_products['price'] = (df_full_products[\"price\"] - df_full_products[\"discount\"]) * df_full_products['quantity']\n",
    "df_full_products.drop(['quantity', 'discount', 'line_item_id', 'product_name', 'brand_name', 'master_category_id', 'parent_category_id'], inplace=True, axis=1)\n",
    "df_full_products.shape"
   ]
  },
  {
   "cell_type": "code",
   "execution_count": 20,
   "metadata": {},
   "outputs": [
    {
     "data": {
      "text/plain": [
       "(51496742, 4)"
      ]
     },
     "execution_count": 20,
     "metadata": {},
     "output_type": "execute_result"
    }
   ],
   "source": [
    "df_full_products.shape"
   ]
  },
  {
   "cell_type": "code",
   "execution_count": 21,
   "metadata": {},
   "outputs": [
    {
     "data": {
      "text/html": [
       "<div>\n",
       "<style scoped>\n",
       "    .dataframe tbody tr th:only-of-type {\n",
       "        vertical-align: middle;\n",
       "    }\n",
       "\n",
       "    .dataframe tbody tr th {\n",
       "        vertical-align: top;\n",
       "    }\n",
       "\n",
       "    .dataframe thead th {\n",
       "        text-align: right;\n",
       "    }\n",
       "</style>\n",
       "<table border=\"1\" class=\"dataframe\">\n",
       "  <thead>\n",
       "    <tr style=\"text-align: right;\">\n",
       "      <th></th>\n",
       "      <th>user_id</th>\n",
       "      <th>order_id</th>\n",
       "      <th>price</th>\n",
       "      <th>product_id</th>\n",
       "    </tr>\n",
       "  </thead>\n",
       "  <tbody>\n",
       "    <tr>\n",
       "      <th>0</th>\n",
       "      <td>525</td>\n",
       "      <td>5354800</td>\n",
       "      <td>464.000000</td>\n",
       "      <td>37548</td>\n",
       "    </tr>\n",
       "    <tr>\n",
       "      <th>1</th>\n",
       "      <td>525</td>\n",
       "      <td>5354800</td>\n",
       "      <td>87.820004</td>\n",
       "      <td>5636</td>\n",
       "    </tr>\n",
       "    <tr>\n",
       "      <th>2</th>\n",
       "      <td>525</td>\n",
       "      <td>5354800</td>\n",
       "      <td>49.939995</td>\n",
       "      <td>22107</td>\n",
       "    </tr>\n",
       "    <tr>\n",
       "      <th>3</th>\n",
       "      <td>525</td>\n",
       "      <td>5354800</td>\n",
       "      <td>269.940010</td>\n",
       "      <td>2530</td>\n",
       "    </tr>\n",
       "    <tr>\n",
       "      <th>4</th>\n",
       "      <td>525</td>\n",
       "      <td>5354800</td>\n",
       "      <td>209.460011</td>\n",
       "      <td>3818486</td>\n",
       "    </tr>\n",
       "  </tbody>\n",
       "</table>\n",
       "</div>"
      ],
      "text/plain": [
       "   user_id  order_id       price  product_id\n",
       "0      525   5354800  464.000000       37548\n",
       "1      525   5354800   87.820004        5636\n",
       "2      525   5354800   49.939995       22107\n",
       "3      525   5354800  269.940010        2530\n",
       "4      525   5354800  209.460011     3818486"
      ]
     },
     "execution_count": 21,
     "metadata": {},
     "output_type": "execute_result"
    }
   ],
   "source": [
    "df_full_products.head()"
   ]
  },
  {
   "cell_type": "code",
   "execution_count": 22,
   "metadata": {},
   "outputs": [
    {
     "data": {
      "text/plain": [
       "709        322669\n",
       "39590       95625\n",
       "166         90083\n",
       "55133       85217\n",
       "3497419     79454\n",
       "            ...  \n",
       "5574273         1\n",
       "5585838         1\n",
       "5571964         1\n",
       "7996840         1\n",
       "7340723         1\n",
       "Name: product_id, Length: 94887, dtype: int64"
      ]
     },
     "execution_count": 22,
     "metadata": {},
     "output_type": "execute_result"
    }
   ],
   "source": [
    "df_full_products.product_id.value_counts()"
   ]
  },
  {
   "cell_type": "code",
   "execution_count": 23,
   "metadata": {},
   "outputs": [
    {
     "data": {
      "text/html": [
       "<div>\n",
       "<style scoped>\n",
       "    .dataframe tbody tr th:only-of-type {\n",
       "        vertical-align: middle;\n",
       "    }\n",
       "\n",
       "    .dataframe tbody tr th {\n",
       "        vertical-align: top;\n",
       "    }\n",
       "\n",
       "    .dataframe thead th {\n",
       "        text-align: right;\n",
       "    }\n",
       "</style>\n",
       "<table border=\"1\" class=\"dataframe\">\n",
       "  <thead>\n",
       "    <tr style=\"text-align: right;\">\n",
       "      <th></th>\n",
       "      <th>user_id</th>\n",
       "      <th>order_id</th>\n",
       "      <th>price</th>\n",
       "      <th>product_id</th>\n",
       "    </tr>\n",
       "  </thead>\n",
       "  <tbody>\n",
       "    <tr>\n",
       "      <th>0</th>\n",
       "      <td>525</td>\n",
       "      <td>5354800</td>\n",
       "      <td>464.000000</td>\n",
       "      <td>37548</td>\n",
       "    </tr>\n",
       "    <tr>\n",
       "      <th>1</th>\n",
       "      <td>525</td>\n",
       "      <td>5354800</td>\n",
       "      <td>87.820004</td>\n",
       "      <td>5636</td>\n",
       "    </tr>\n",
       "    <tr>\n",
       "      <th>2</th>\n",
       "      <td>525</td>\n",
       "      <td>5354800</td>\n",
       "      <td>49.939995</td>\n",
       "      <td>22107</td>\n",
       "    </tr>\n",
       "    <tr>\n",
       "      <th>3</th>\n",
       "      <td>525</td>\n",
       "      <td>5354800</td>\n",
       "      <td>269.940010</td>\n",
       "      <td>2530</td>\n",
       "    </tr>\n",
       "    <tr>\n",
       "      <th>4</th>\n",
       "      <td>525</td>\n",
       "      <td>5354800</td>\n",
       "      <td>209.460011</td>\n",
       "      <td>3818486</td>\n",
       "    </tr>\n",
       "  </tbody>\n",
       "</table>\n",
       "</div>"
      ],
      "text/plain": [
       "   user_id  order_id       price  product_id\n",
       "0      525   5354800  464.000000       37548\n",
       "1      525   5354800   87.820004        5636\n",
       "2      525   5354800   49.939995       22107\n",
       "3      525   5354800  269.940010        2530\n",
       "4      525   5354800  209.460011     3818486"
      ]
     },
     "execution_count": 23,
     "metadata": {},
     "output_type": "execute_result"
    }
   ],
   "source": [
    "df_full_products.head()"
   ]
  },
  {
   "cell_type": "code",
   "execution_count": 25,
   "metadata": {},
   "outputs": [
    {
     "name": "stdout",
     "output_type": "stream",
     "text": [
      "CPU times: user 9min 47s, sys: 5.82 s, total: 9min 53s\n",
      "Wall time: 9min 53s\n"
     ]
    }
   ],
   "source": [
    "%%time\n",
    "freq = df_full_products.product_id.value_counts()\n",
    "df_full_products['product_in_base'] = df_full_products.product_id.apply(lambda x:freq[x])"
   ]
  },
  {
   "cell_type": "code",
   "execution_count": 27,
   "metadata": {},
   "outputs": [
    {
     "data": {
      "text/plain": [
       "(51055269, 5)"
      ]
     },
     "execution_count": 27,
     "metadata": {},
     "output_type": "execute_result"
    }
   ],
   "source": [
    "df_full_products = df_full_products[df_full_products['product_in_base'] > 30]\n",
    "df_full_products.shape"
   ]
  },
  {
   "cell_type": "code",
   "execution_count": 28,
   "metadata": {},
   "outputs": [
    {
     "data": {
      "text/html": [
       "<div>\n",
       "<style scoped>\n",
       "    .dataframe tbody tr th:only-of-type {\n",
       "        vertical-align: middle;\n",
       "    }\n",
       "\n",
       "    .dataframe tbody tr th {\n",
       "        vertical-align: top;\n",
       "    }\n",
       "\n",
       "    .dataframe thead th {\n",
       "        text-align: right;\n",
       "    }\n",
       "</style>\n",
       "<table border=\"1\" class=\"dataframe\">\n",
       "  <thead>\n",
       "    <tr style=\"text-align: right;\">\n",
       "      <th></th>\n",
       "      <th>user_id</th>\n",
       "      <th>order_id</th>\n",
       "      <th>price</th>\n",
       "      <th>product_id</th>\n",
       "    </tr>\n",
       "  </thead>\n",
       "  <tbody>\n",
       "    <tr>\n",
       "      <th>0</th>\n",
       "      <td>525</td>\n",
       "      <td>5354800</td>\n",
       "      <td>464.000000</td>\n",
       "      <td>37548</td>\n",
       "    </tr>\n",
       "    <tr>\n",
       "      <th>1</th>\n",
       "      <td>525</td>\n",
       "      <td>5354800</td>\n",
       "      <td>87.820004</td>\n",
       "      <td>5636</td>\n",
       "    </tr>\n",
       "    <tr>\n",
       "      <th>2</th>\n",
       "      <td>525</td>\n",
       "      <td>5354800</td>\n",
       "      <td>49.939995</td>\n",
       "      <td>22107</td>\n",
       "    </tr>\n",
       "    <tr>\n",
       "      <th>3</th>\n",
       "      <td>525</td>\n",
       "      <td>5354800</td>\n",
       "      <td>269.940010</td>\n",
       "      <td>2530</td>\n",
       "    </tr>\n",
       "    <tr>\n",
       "      <th>4</th>\n",
       "      <td>525</td>\n",
       "      <td>5354800</td>\n",
       "      <td>209.460011</td>\n",
       "      <td>3818486</td>\n",
       "    </tr>\n",
       "    <tr>\n",
       "      <th>...</th>\n",
       "      <td>...</td>\n",
       "      <td>...</td>\n",
       "      <td>...</td>\n",
       "      <td>...</td>\n",
       "    </tr>\n",
       "    <tr>\n",
       "      <th>3167950</th>\n",
       "      <td>3142966</td>\n",
       "      <td>16654689</td>\n",
       "      <td>17.189999</td>\n",
       "      <td>71049</td>\n",
       "    </tr>\n",
       "    <tr>\n",
       "      <th>3167951</th>\n",
       "      <td>3142966</td>\n",
       "      <td>16654689</td>\n",
       "      <td>-9.110001</td>\n",
       "      <td>96217</td>\n",
       "    </tr>\n",
       "    <tr>\n",
       "      <th>3167952</th>\n",
       "      <td>3142966</td>\n",
       "      <td>16654689</td>\n",
       "      <td>-18.610001</td>\n",
       "      <td>94125</td>\n",
       "    </tr>\n",
       "    <tr>\n",
       "      <th>3167953</th>\n",
       "      <td>3142966</td>\n",
       "      <td>16654689</td>\n",
       "      <td>298.489990</td>\n",
       "      <td>4235874</td>\n",
       "    </tr>\n",
       "    <tr>\n",
       "      <th>3167954</th>\n",
       "      <td>3142966</td>\n",
       "      <td>16654689</td>\n",
       "      <td>210.589996</td>\n",
       "      <td>3850672</td>\n",
       "    </tr>\n",
       "  </tbody>\n",
       "</table>\n",
       "<p>51055269 rows × 4 columns</p>\n",
       "</div>"
      ],
      "text/plain": [
       "         user_id  order_id       price  product_id\n",
       "0            525   5354800  464.000000       37548\n",
       "1            525   5354800   87.820004        5636\n",
       "2            525   5354800   49.939995       22107\n",
       "3            525   5354800  269.940010        2530\n",
       "4            525   5354800  209.460011     3818486\n",
       "...          ...       ...         ...         ...\n",
       "3167950  3142966  16654689   17.189999       71049\n",
       "3167951  3142966  16654689   -9.110001       96217\n",
       "3167952  3142966  16654689  -18.610001       94125\n",
       "3167953  3142966  16654689  298.489990     4235874\n",
       "3167954  3142966  16654689  210.589996     3850672\n",
       "\n",
       "[51055269 rows x 4 columns]"
      ]
     },
     "execution_count": 28,
     "metadata": {},
     "output_type": "execute_result"
    }
   ],
   "source": [
    "df_full_products.drop(columns='product_in_base', axis=1)"
   ]
  },
  {
   "cell_type": "code",
   "execution_count": 36,
   "metadata": {},
   "outputs": [
    {
     "data": {
      "text/html": [
       "<div>\n",
       "<style scoped>\n",
       "    .dataframe tbody tr th:only-of-type {\n",
       "        vertical-align: middle;\n",
       "    }\n",
       "\n",
       "    .dataframe tbody tr th {\n",
       "        vertical-align: top;\n",
       "    }\n",
       "\n",
       "    .dataframe thead th {\n",
       "        text-align: right;\n",
       "    }\n",
       "</style>\n",
       "<table border=\"1\" class=\"dataframe\">\n",
       "  <thead>\n",
       "    <tr style=\"text-align: right;\">\n",
       "      <th></th>\n",
       "      <th>user_id</th>\n",
       "      <th>order_id</th>\n",
       "      <th>price</th>\n",
       "      <th>product_id</th>\n",
       "      <th>product_in_base</th>\n",
       "    </tr>\n",
       "  </thead>\n",
       "  <tbody>\n",
       "    <tr>\n",
       "      <th>0</th>\n",
       "      <td>525</td>\n",
       "      <td>5354800</td>\n",
       "      <td>464.000000</td>\n",
       "      <td>37548</td>\n",
       "      <td>4360</td>\n",
       "    </tr>\n",
       "    <tr>\n",
       "      <th>1</th>\n",
       "      <td>525</td>\n",
       "      <td>5354800</td>\n",
       "      <td>87.820004</td>\n",
       "      <td>5636</td>\n",
       "      <td>7566</td>\n",
       "    </tr>\n",
       "    <tr>\n",
       "      <th>2</th>\n",
       "      <td>525</td>\n",
       "      <td>5354800</td>\n",
       "      <td>49.939995</td>\n",
       "      <td>22107</td>\n",
       "      <td>10376</td>\n",
       "    </tr>\n",
       "    <tr>\n",
       "      <th>3</th>\n",
       "      <td>525</td>\n",
       "      <td>5354800</td>\n",
       "      <td>269.940010</td>\n",
       "      <td>2530</td>\n",
       "      <td>1602</td>\n",
       "    </tr>\n",
       "    <tr>\n",
       "      <th>4</th>\n",
       "      <td>525</td>\n",
       "      <td>5354800</td>\n",
       "      <td>209.460011</td>\n",
       "      <td>3818486</td>\n",
       "      <td>194</td>\n",
       "    </tr>\n",
       "    <tr>\n",
       "      <th>...</th>\n",
       "      <td>...</td>\n",
       "      <td>...</td>\n",
       "      <td>...</td>\n",
       "      <td>...</td>\n",
       "      <td>...</td>\n",
       "    </tr>\n",
       "    <tr>\n",
       "      <th>298</th>\n",
       "      <td>3011</td>\n",
       "      <td>3901037</td>\n",
       "      <td>23.090000</td>\n",
       "      <td>57723</td>\n",
       "      <td>7893</td>\n",
       "    </tr>\n",
       "    <tr>\n",
       "      <th>299</th>\n",
       "      <td>3011</td>\n",
       "      <td>3901037</td>\n",
       "      <td>23.090000</td>\n",
       "      <td>57723</td>\n",
       "      <td>7893</td>\n",
       "    </tr>\n",
       "    <tr>\n",
       "      <th>300</th>\n",
       "      <td>3011</td>\n",
       "      <td>3901037</td>\n",
       "      <td>23.090000</td>\n",
       "      <td>57723</td>\n",
       "      <td>7893</td>\n",
       "    </tr>\n",
       "    <tr>\n",
       "      <th>301</th>\n",
       "      <td>3011</td>\n",
       "      <td>3901037</td>\n",
       "      <td>69.270000</td>\n",
       "      <td>17526</td>\n",
       "      <td>7359</td>\n",
       "    </tr>\n",
       "    <tr>\n",
       "      <th>302</th>\n",
       "      <td>3011</td>\n",
       "      <td>3901037</td>\n",
       "      <td>69.270000</td>\n",
       "      <td>17527</td>\n",
       "      <td>6922</td>\n",
       "    </tr>\n",
       "  </tbody>\n",
       "</table>\n",
       "<p>300 rows × 5 columns</p>\n",
       "</div>"
      ],
      "text/plain": [
       "     user_id  order_id       price  product_id  product_in_base\n",
       "0        525   5354800  464.000000       37548             4360\n",
       "1        525   5354800   87.820004        5636             7566\n",
       "2        525   5354800   49.939995       22107            10376\n",
       "3        525   5354800  269.940010        2530             1602\n",
       "4        525   5354800  209.460011     3818486              194\n",
       "..       ...       ...         ...         ...              ...\n",
       "298     3011   3901037   23.090000       57723             7893\n",
       "299     3011   3901037   23.090000       57723             7893\n",
       "300     3011   3901037   23.090000       57723             7893\n",
       "301     3011   3901037   69.270000       17526             7359\n",
       "302     3011   3901037   69.270000       17527             6922\n",
       "\n",
       "[300 rows x 5 columns]"
      ]
     },
     "execution_count": 36,
     "metadata": {},
     "output_type": "execute_result"
    }
   ],
   "source": [
    "df = df_full_products[:300]\n",
    "df"
   ]
  },
  {
   "cell_type": "code",
   "execution_count": 44,
   "metadata": {},
   "outputs": [
    {
     "data": {
      "text/plain": [
       "(12, 2)"
      ]
     },
     "execution_count": 44,
     "metadata": {},
     "output_type": "execute_result"
    }
   ],
   "source": [
    "items = pd.DataFrame(df.groupby(['user_id', 'order_id'])['product_id'].apply(list).groupby(level=0).apply(list)).reset_index()\n",
    "items.shape"
   ]
  },
  {
   "cell_type": "code",
   "execution_count": 45,
   "metadata": {},
   "outputs": [
    {
     "data": {
      "text/html": [
       "<div>\n",
       "<style scoped>\n",
       "    .dataframe tbody tr th:only-of-type {\n",
       "        vertical-align: middle;\n",
       "    }\n",
       "\n",
       "    .dataframe tbody tr th {\n",
       "        vertical-align: top;\n",
       "    }\n",
       "\n",
       "    .dataframe thead th {\n",
       "        text-align: right;\n",
       "    }\n",
       "</style>\n",
       "<table border=\"1\" class=\"dataframe\">\n",
       "  <thead>\n",
       "    <tr style=\"text-align: right;\">\n",
       "      <th></th>\n",
       "      <th>user_id</th>\n",
       "      <th>product_id</th>\n",
       "    </tr>\n",
       "  </thead>\n",
       "  <tbody>\n",
       "    <tr>\n",
       "      <th>0</th>\n",
       "      <td>525</td>\n",
       "      <td>[[37548, 5636, 22107, 2530, 3818486, 687, 6491...</td>\n",
       "    </tr>\n",
       "    <tr>\n",
       "      <th>1</th>\n",
       "      <td>766</td>\n",
       "      <td>[[3069043, 3041849, 216, 1990, 3883053, 13487,...</td>\n",
       "    </tr>\n",
       "    <tr>\n",
       "      <th>2</th>\n",
       "      <td>859</td>\n",
       "      <td>[[63872, 57391, 13345, 14535, 5483290, 99, 100...</td>\n",
       "    </tr>\n",
       "    <tr>\n",
       "      <th>3</th>\n",
       "      <td>932</td>\n",
       "      <td>[[5075818, 18720, 39812, 9960, 5649, 10189, 96...</td>\n",
       "    </tr>\n",
       "    <tr>\n",
       "      <th>4</th>\n",
       "      <td>1012</td>\n",
       "      <td>[[58822, 2531, 38236, 10]]</td>\n",
       "    </tr>\n",
       "    <tr>\n",
       "      <th>5</th>\n",
       "      <td>1132</td>\n",
       "      <td>[[95825, 5073443, 54732, 3817582, 3302557, 127...</td>\n",
       "    </tr>\n",
       "    <tr>\n",
       "      <th>6</th>\n",
       "      <td>1646</td>\n",
       "      <td>[[96218, 4276620, 199254, 49948, 687, 4830888,...</td>\n",
       "    </tr>\n",
       "    <tr>\n",
       "      <th>7</th>\n",
       "      <td>1789</td>\n",
       "      <td>[[55133, 4830947, 38719, 37292, 37282, 37295, ...</td>\n",
       "    </tr>\n",
       "    <tr>\n",
       "      <th>8</th>\n",
       "      <td>2131</td>\n",
       "      <td>[[6005157, 37425, 37426, 38734, 4276437, 38735...</td>\n",
       "    </tr>\n",
       "    <tr>\n",
       "      <th>9</th>\n",
       "      <td>2171</td>\n",
       "      <td>[[199604, 5046171, 1818, 24858, 5044287], [139...</td>\n",
       "    </tr>\n",
       "    <tr>\n",
       "      <th>10</th>\n",
       "      <td>2268</td>\n",
       "      <td>[[37123, 17654, 9624, 5045359, 7048, 29553, 17...</td>\n",
       "    </tr>\n",
       "    <tr>\n",
       "      <th>11</th>\n",
       "      <td>3011</td>\n",
       "      <td>[[9602, 25843, 72796, 25847, 25848, 4275267, 6...</td>\n",
       "    </tr>\n",
       "  </tbody>\n",
       "</table>\n",
       "</div>"
      ],
      "text/plain": [
       "    user_id                                         product_id\n",
       "0       525  [[37548, 5636, 22107, 2530, 3818486, 687, 6491...\n",
       "1       766  [[3069043, 3041849, 216, 1990, 3883053, 13487,...\n",
       "2       859  [[63872, 57391, 13345, 14535, 5483290, 99, 100...\n",
       "3       932  [[5075818, 18720, 39812, 9960, 5649, 10189, 96...\n",
       "4      1012                         [[58822, 2531, 38236, 10]]\n",
       "5      1132  [[95825, 5073443, 54732, 3817582, 3302557, 127...\n",
       "6      1646  [[96218, 4276620, 199254, 49948, 687, 4830888,...\n",
       "7      1789  [[55133, 4830947, 38719, 37292, 37282, 37295, ...\n",
       "8      2131  [[6005157, 37425, 37426, 38734, 4276437, 38735...\n",
       "9      2171  [[199604, 5046171, 1818, 24858, 5044287], [139...\n",
       "10     2268  [[37123, 17654, 9624, 5045359, 7048, 29553, 17...\n",
       "11     3011  [[9602, 25843, 72796, 25847, 25848, 4275267, 6..."
      ]
     },
     "execution_count": 45,
     "metadata": {},
     "output_type": "execute_result"
    }
   ],
   "source": [
    "items"
   ]
  },
  {
   "cell_type": "code",
   "execution_count": null,
   "metadata": {},
   "outputs": [],
   "source": [
    "dataset = df.groupby(['user_id']).agg({'product_id':lambda x:})"
   ]
  },
  {
   "cell_type": "code",
   "execution_count": 46,
   "metadata": {},
   "outputs": [
    {
     "name": "stdout",
     "output_type": "stream",
     "text": [
      "CPU times: user 3min 59s, sys: 9.1 s, total: 4min 8s\n",
      "Wall time: 4min 8s\n"
     ]
    },
    {
     "data": {
      "text/plain": [
       "(614215, 2)"
      ]
     },
     "execution_count": 46,
     "metadata": {},
     "output_type": "execute_result"
    }
   ],
   "source": [
    "%%time\n",
    "items = pd.DataFrame(df_full_products.groupby(['user_id', 'order_id'])['product_id'].apply(list).groupby(level=0).apply(list)).reset_index()\n",
    "items.shape"
   ]
  },
  {
   "cell_type": "code",
   "execution_count": 55,
   "metadata": {},
   "outputs": [
    {
     "data": {
      "text/html": [
       "<div>\n",
       "<style scoped>\n",
       "    .dataframe tbody tr th:only-of-type {\n",
       "        vertical-align: middle;\n",
       "    }\n",
       "\n",
       "    .dataframe tbody tr th {\n",
       "        vertical-align: top;\n",
       "    }\n",
       "\n",
       "    .dataframe thead th {\n",
       "        text-align: right;\n",
       "    }\n",
       "</style>\n",
       "<table border=\"1\" class=\"dataframe\">\n",
       "  <thead>\n",
       "    <tr style=\"text-align: right;\">\n",
       "      <th></th>\n",
       "      <th>user_id</th>\n",
       "      <th>product_id</th>\n",
       "      <th>num_baskets</th>\n",
       "    </tr>\n",
       "  </thead>\n",
       "  <tbody>\n",
       "    <tr>\n",
       "      <th>0</th>\n",
       "      <td>51</td>\n",
       "      <td>[[5501, 19562, 50190, 45435, 3817487, 46762, 8...</td>\n",
       "      <td>15</td>\n",
       "    </tr>\n",
       "    <tr>\n",
       "      <th>1</th>\n",
       "      <td>65</td>\n",
       "      <td>[[26062, 4141822, 709, 63048, 55049, 18450, 77...</td>\n",
       "      <td>19</td>\n",
       "    </tr>\n",
       "    <tr>\n",
       "      <th>2</th>\n",
       "      <td>83</td>\n",
       "      <td>[[74993, 38831, 4593463, 63102, 198543, 38837,...</td>\n",
       "      <td>1</td>\n",
       "    </tr>\n",
       "    <tr>\n",
       "      <th>3</th>\n",
       "      <td>187</td>\n",
       "      <td>[[88084, 88086]]</td>\n",
       "      <td>1</td>\n",
       "    </tr>\n",
       "    <tr>\n",
       "      <th>4</th>\n",
       "      <td>223</td>\n",
       "      <td>[[9675, 9642, 9721, 3601876, 3601877, 9736, 19...</td>\n",
       "      <td>1</td>\n",
       "    </tr>\n",
       "    <tr>\n",
       "      <th>...</th>\n",
       "      <td>...</td>\n",
       "      <td>...</td>\n",
       "      <td>...</td>\n",
       "    </tr>\n",
       "    <tr>\n",
       "      <th>614210</th>\n",
       "      <td>3142901</td>\n",
       "      <td>[[30337, 6999847, 7048726, 6999896]]</td>\n",
       "      <td>1</td>\n",
       "    </tr>\n",
       "    <tr>\n",
       "      <th>614211</th>\n",
       "      <td>3142924</td>\n",
       "      <td>[[4033819, 84507, 80609, 105600, 12404, 667815...</td>\n",
       "      <td>1</td>\n",
       "    </tr>\n",
       "    <tr>\n",
       "      <th>614212</th>\n",
       "      <td>3142936</td>\n",
       "      <td>[[37405, 3847853, 37516, 2834452, 49927, 73480...</td>\n",
       "      <td>1</td>\n",
       "    </tr>\n",
       "    <tr>\n",
       "      <th>614213</th>\n",
       "      <td>3142965</td>\n",
       "      <td>[[5637, 7467109, 7339408, 65697, 2834440, 7175...</td>\n",
       "      <td>1</td>\n",
       "    </tr>\n",
       "    <tr>\n",
       "      <th>614214</th>\n",
       "      <td>3142966</td>\n",
       "      <td>[[67213, 6613, 6742924, 198652, 198653, 198043...</td>\n",
       "      <td>1</td>\n",
       "    </tr>\n",
       "  </tbody>\n",
       "</table>\n",
       "<p>614215 rows × 3 columns</p>\n",
       "</div>"
      ],
      "text/plain": [
       "        user_id                                         product_id  \\\n",
       "0            51  [[5501, 19562, 50190, 45435, 3817487, 46762, 8...   \n",
       "1            65  [[26062, 4141822, 709, 63048, 55049, 18450, 77...   \n",
       "2            83  [[74993, 38831, 4593463, 63102, 198543, 38837,...   \n",
       "3           187                                   [[88084, 88086]]   \n",
       "4           223  [[9675, 9642, 9721, 3601876, 3601877, 9736, 19...   \n",
       "...         ...                                                ...   \n",
       "614210  3142901               [[30337, 6999847, 7048726, 6999896]]   \n",
       "614211  3142924  [[4033819, 84507, 80609, 105600, 12404, 667815...   \n",
       "614212  3142936  [[37405, 3847853, 37516, 2834452, 49927, 73480...   \n",
       "614213  3142965  [[5637, 7467109, 7339408, 65697, 2834440, 7175...   \n",
       "614214  3142966  [[67213, 6613, 6742924, 198652, 198653, 198043...   \n",
       "\n",
       "        num_baskets  \n",
       "0                15  \n",
       "1                19  \n",
       "2                 1  \n",
       "3                 1  \n",
       "4                 1  \n",
       "...             ...  \n",
       "614210            1  \n",
       "614211            1  \n",
       "614212            1  \n",
       "614213            1  \n",
       "614214            1  \n",
       "\n",
       "[614215 rows x 3 columns]"
      ]
     },
     "execution_count": 55,
     "metadata": {},
     "output_type": "execute_result"
    }
   ],
   "source": [
    "items['num_baskets'] = items.product_id.apply(len)\n",
    "items\n"
   ]
  },
  {
   "cell_type": "code",
   "execution_count": 56,
   "metadata": {},
   "outputs": [],
   "source": [
    "items.to_csv(\"dataset.csv\", index=False)"
   ]
  },
  {
   "cell_type": "code",
   "execution_count": 54,
   "metadata": {},
   "outputs": [
    {
     "name": "stderr",
     "output_type": "stream",
     "text": [
      "<ipython-input-54-5084933b8552>:1: SettingWithCopyWarning: \n",
      "A value is trying to be set on a copy of a slice from a DataFrame.\n",
      "Try using .loc[row_indexer,col_indexer] = value instead\n",
      "\n",
      "See the caveats in the documentation: https://pandas.pydata.org/pandas-docs/stable/user_guide/indexing.html#returning-a-view-versus-a-copy\n",
      "  df['num_baskets'] = df.product_id.apply(len)\n"
     ]
    },
    {
     "data": {
      "text/html": [
       "<div>\n",
       "<style scoped>\n",
       "    .dataframe tbody tr th:only-of-type {\n",
       "        vertical-align: middle;\n",
       "    }\n",
       "\n",
       "    .dataframe tbody tr th {\n",
       "        vertical-align: top;\n",
       "    }\n",
       "\n",
       "    .dataframe thead th {\n",
       "        text-align: right;\n",
       "    }\n",
       "</style>\n",
       "<table border=\"1\" class=\"dataframe\">\n",
       "  <thead>\n",
       "    <tr style=\"text-align: right;\">\n",
       "      <th></th>\n",
       "      <th>user_id</th>\n",
       "      <th>product_id</th>\n",
       "      <th>num_baskets</th>\n",
       "    </tr>\n",
       "  </thead>\n",
       "  <tbody>\n",
       "    <tr>\n",
       "      <th>0</th>\n",
       "      <td>51</td>\n",
       "      <td>[[5501, 19562, 50190, 45435, 3817487, 46762, 8...</td>\n",
       "      <td>15</td>\n",
       "    </tr>\n",
       "    <tr>\n",
       "      <th>1</th>\n",
       "      <td>65</td>\n",
       "      <td>[[26062, 4141822, 709, 63048, 55049, 18450, 77...</td>\n",
       "      <td>19</td>\n",
       "    </tr>\n",
       "    <tr>\n",
       "      <th>2</th>\n",
       "      <td>83</td>\n",
       "      <td>[[74993, 38831, 4593463, 63102, 198543, 38837,...</td>\n",
       "      <td>1</td>\n",
       "    </tr>\n",
       "    <tr>\n",
       "      <th>3</th>\n",
       "      <td>187</td>\n",
       "      <td>[[88084, 88086]]</td>\n",
       "      <td>1</td>\n",
       "    </tr>\n",
       "    <tr>\n",
       "      <th>4</th>\n",
       "      <td>223</td>\n",
       "      <td>[[9675, 9642, 9721, 3601876, 3601877, 9736, 19...</td>\n",
       "      <td>1</td>\n",
       "    </tr>\n",
       "  </tbody>\n",
       "</table>\n",
       "</div>"
      ],
      "text/plain": [
       "   user_id                                         product_id  num_baskets\n",
       "0       51  [[5501, 19562, 50190, 45435, 3817487, 46762, 8...           15\n",
       "1       65  [[26062, 4141822, 709, 63048, 55049, 18450, 77...           19\n",
       "2       83  [[74993, 38831, 4593463, 63102, 198543, 38837,...            1\n",
       "3      187                                   [[88084, 88086]]            1\n",
       "4      223  [[9675, 9642, 9721, 3601876, 3601877, 9736, 19...            1"
      ]
     },
     "execution_count": 54,
     "metadata": {},
     "output_type": "execute_result"
    }
   ],
   "source": [
    "df['num_baskets'] = df.product_id.apply(len)\n",
    "df"
   ]
  },
  {
   "cell_type": "code",
   "execution_count": null,
   "metadata": {},
   "outputs": [],
   "source": [
    "items['len'] = items.product_id.apply(len)\n",
    "items"
   ]
  },
  {
   "cell_type": "code",
   "execution_count": null,
   "metadata": {},
   "outputs": [],
   "source": [
    "items[items['len'] > 10].count()[0]"
   ]
  },
  {
   "cell_type": "code",
   "execution_count": null,
   "metadata": {},
   "outputs": [],
   "source": [
    "gp = items.groupby(['user_id']).order_id.count()\n",
    "gp.plot().bar"
   ]
  },
  {
   "cell_type": "code",
   "execution_count": null,
   "metadata": {},
   "outputs": [],
   "source": [
    "items['amount_orders'] = items[]"
   ]
  },
  {
   "cell_type": "code",
   "execution_count": null,
   "metadata": {},
   "outputs": [],
   "source": []
  },
  {
   "cell_type": "code",
   "execution_count": null,
   "metadata": {},
   "outputs": [],
   "source": []
  },
  {
   "cell_type": "code",
   "execution_count": null,
   "metadata": {},
   "outputs": [],
   "source": []
  }
 ],
 "metadata": {
  "kernelspec": {
   "display_name": "Python 3",
   "language": "python",
   "name": "python3"
  },
  "language_info": {
   "codemirror_mode": {
    "name": "ipython",
    "version": 3
   },
   "file_extension": ".py",
   "mimetype": "text/x-python",
   "name": "python",
   "nbconvert_exporter": "python",
   "pygments_lexer": "ipython3",
   "version": "3.8.3"
  }
 },
 "nbformat": 4,
 "nbformat_minor": 1
}
