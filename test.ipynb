{
 "cells": [
  {
   "cell_type": "code",
   "execution_count": 1,
   "metadata": {},
   "outputs": [],
   "source": [
    "import pandas as pd"
   ]
  },
  {
   "cell_type": "code",
   "execution_count": 2,
   "metadata": {},
   "outputs": [],
   "source": [
    "df_orders = pd.read_csv('sample_submission.csv')"
   ]
  },
  {
   "cell_type": "code",
   "execution_count": 3,
   "metadata": {},
   "outputs": [
    {
     "name": "stdout",
     "output_type": "stream",
     "text": [
      "CPU times: user 1min 30s, sys: 22.2 s, total: 1min 53s\n",
      "Wall time: 1min 59s\n"
     ]
    }
   ],
   "source": [
    "%%time\n",
    "products_tables = [\n",
    "  'tab_2_products_2020-01-01.csv',\n",
    "  'tab_2_products_2020-01-11.csv',\n",
    "  'tab_2_products_2020-01-21.csv',\n",
    "  'tab_2_products_2020-01-31.csv',\n",
    "  'tab_2_products_2020-02-10.csv',\n",
    "  'tab_2_products_2020-03-01.csv',\n",
    "  'tab_2_products_2020-03-11.csv',\n",
    "  'tab_2_products_2020-03-21.csv',\n",
    "  'tab_2_products_2020-03-31.csv',\n",
    "  'tab_2_products_2020-04-10.csv',\n",
    "  'tab_2_products_2020-04-20.csv',\n",
    "  'tab_2_products_2020-04-30.csv',\n",
    "  'tab_2_products_2020-05-20.csv',\n",
    "  'tab_2_products_2020-05-30.csv',\n",
    "  'tab_2_products_2020-06-09.csv',\n",
    "  'tab_2_products_2020-06-19.csv',\n",
    "  'tab_2_products_2020-06-29.csv',\n",
    "  'tab_2_products_2020-07-19.csv',\n",
    "  'tab_2_products_2020-07-29.csv',\n",
    "  'tab_2_products_2020-08-08.csv',\n",
    "  'tab_2_products_2020-08-18.csv',\n",
    "  'tab_2_products_2020-08-28.csv',\n",
    "  'tab_2_products_2020-09-07.csv',\n",
    "]\n",
    "\n",
    "df_products = []\n",
    "for i,product_table in enumerate(products_tables):\n",
    "  df_products.append(pd.read_csv(product_table))"
   ]
  },
  {
   "cell_type": "code",
   "execution_count": 4,
   "metadata": {},
   "outputs": [],
   "source": [
    "df_full_products = pd.concat([*df_products])"
   ]
  },
  {
   "cell_type": "code",
   "execution_count": 5,
   "metadata": {},
   "outputs": [],
   "source": [
    "df_orders = pd.read_csv('tab_1_orders.csv', parse_dates=['order_created_time'])\n",
    "\n",
    "df_categories = pd.read_csv('tab_3_categories.csv')\n",
    "\n",
    "df_user_profiles = pd.read_csv('tab_4_user_profiles.csv')\n",
    "\n",
    "df_product_properties = pd.read_csv('tab_5_product_properties.csv')\n",
    "\n",
    "df_city = pd.read_csv('tab_6_city.csv')\n",
    "\n",
    "df_sample_submission = pd.read_csv('sample_submission.csv')"
   ]
  },
  {
   "cell_type": "code",
   "execution_count": 20,
   "metadata": {},
   "outputs": [
    {
     "data": {
      "text/html": [
       "<div>\n",
       "<style scoped>\n",
       "    .dataframe tbody tr th:only-of-type {\n",
       "        vertical-align: middle;\n",
       "    }\n",
       "\n",
       "    .dataframe tbody tr th {\n",
       "        vertical-align: top;\n",
       "    }\n",
       "\n",
       "    .dataframe thead th {\n",
       "        text-align: right;\n",
       "    }\n",
       "</style>\n",
       "<table border=\"1\" class=\"dataframe\">\n",
       "  <thead>\n",
       "    <tr style=\"text-align: right;\">\n",
       "      <th></th>\n",
       "      <th>user_id</th>\n",
       "      <th>order_id</th>\n",
       "      <th>order_created_time</th>\n",
       "      <th>retailer</th>\n",
       "      <th>store_id</th>\n",
       "      <th>platform</th>\n",
       "    </tr>\n",
       "  </thead>\n",
       "  <tbody>\n",
       "    <tr>\n",
       "      <th>0</th>\n",
       "      <td>72</td>\n",
       "      <td>17431000</td>\n",
       "      <td>2020-09-26 10:48:57</td>\n",
       "      <td>METRO</td>\n",
       "      <td>21</td>\n",
       "      <td>app</td>\n",
       "    </tr>\n",
       "    <tr>\n",
       "      <th>1</th>\n",
       "      <td>83</td>\n",
       "      <td>9718154</td>\n",
       "      <td>2020-05-08 09:46:18</td>\n",
       "      <td>METRO</td>\n",
       "      <td>87</td>\n",
       "      <td>web</td>\n",
       "    </tr>\n",
       "    <tr>\n",
       "      <th>2</th>\n",
       "      <td>142</td>\n",
       "      <td>10056850</td>\n",
       "      <td>2020-05-14 15:06:03</td>\n",
       "      <td>METRO</td>\n",
       "      <td>320</td>\n",
       "      <td>app</td>\n",
       "    </tr>\n",
       "    <tr>\n",
       "      <th>3</th>\n",
       "      <td>187</td>\n",
       "      <td>15952443</td>\n",
       "      <td>2020-09-01 17:34:00</td>\n",
       "      <td>ВкусВилл</td>\n",
       "      <td>533</td>\n",
       "      <td>app</td>\n",
       "    </tr>\n",
       "    <tr>\n",
       "      <th>4</th>\n",
       "      <td>224</td>\n",
       "      <td>10409918</td>\n",
       "      <td>2020-05-20 06:32:50</td>\n",
       "      <td>Ашан</td>\n",
       "      <td>183</td>\n",
       "      <td>web</td>\n",
       "    </tr>\n",
       "  </tbody>\n",
       "</table>\n",
       "</div>"
      ],
      "text/plain": [
       "   user_id  order_id  order_created_time  retailer  store_id platform\n",
       "0       72  17431000 2020-09-26 10:48:57     METRO        21      app\n",
       "1       83   9718154 2020-05-08 09:46:18     METRO        87      web\n",
       "2      142  10056850 2020-05-14 15:06:03     METRO       320      app\n",
       "3      187  15952443 2020-09-01 17:34:00  ВкусВилл       533      app\n",
       "4      224  10409918 2020-05-20 06:32:50      Ашан       183      web"
      ]
     },
     "execution_count": 20,
     "metadata": {},
     "output_type": "execute_result"
    }
   ],
   "source": [
    "df_orders.head()"
   ]
  },
  {
   "cell_type": "code",
   "execution_count": 11,
   "metadata": {},
   "outputs": [
    {
     "data": {
      "text/html": [
       "<div>\n",
       "<style scoped>\n",
       "    .dataframe tbody tr th:only-of-type {\n",
       "        vertical-align: middle;\n",
       "    }\n",
       "\n",
       "    .dataframe tbody tr th {\n",
       "        vertical-align: top;\n",
       "    }\n",
       "\n",
       "    .dataframe thead th {\n",
       "        text-align: right;\n",
       "    }\n",
       "</style>\n",
       "<table border=\"1\" class=\"dataframe\">\n",
       "  <thead>\n",
       "    <tr style=\"text-align: right;\">\n",
       "      <th></th>\n",
       "      <th>id</th>\n",
       "      <th>name</th>\n",
       "      <th>parent_id</th>\n",
       "    </tr>\n",
       "  </thead>\n",
       "  <tbody>\n",
       "    <tr>\n",
       "      <th>0</th>\n",
       "      <td>1</td>\n",
       "      <td>Продукты питания</td>\n",
       "      <td>0</td>\n",
       "    </tr>\n",
       "    <tr>\n",
       "      <th>1</th>\n",
       "      <td>2</td>\n",
       "      <td>Замороженные продукты</td>\n",
       "      <td>1</td>\n",
       "    </tr>\n",
       "    <tr>\n",
       "      <th>2</th>\n",
       "      <td>3</td>\n",
       "      <td>Замороженные овощи и фрукты</td>\n",
       "      <td>2</td>\n",
       "    </tr>\n",
       "    <tr>\n",
       "      <th>3</th>\n",
       "      <td>4</td>\n",
       "      <td>Замороженные полуфабрикаты</td>\n",
       "      <td>2</td>\n",
       "    </tr>\n",
       "    <tr>\n",
       "      <th>4</th>\n",
       "      <td>5</td>\n",
       "      <td>Рыба замороженная</td>\n",
       "      <td>2</td>\n",
       "    </tr>\n",
       "  </tbody>\n",
       "</table>\n",
       "</div>"
      ],
      "text/plain": [
       "   id                         name  parent_id\n",
       "0   1             Продукты питания          0\n",
       "1   2        Замороженные продукты          1\n",
       "2   3  Замороженные овощи и фрукты          2\n",
       "3   4   Замороженные полуфабрикаты          2\n",
       "4   5            Рыба замороженная          2"
      ]
     },
     "execution_count": 11,
     "metadata": {},
     "output_type": "execute_result"
    }
   ],
   "source": [
    "df_categories.head()"
   ]
  },
  {
   "cell_type": "code",
   "execution_count": 12,
   "metadata": {},
   "outputs": [
    {
     "data": {
      "text/html": [
       "<div>\n",
       "<style scoped>\n",
       "    .dataframe tbody tr th:only-of-type {\n",
       "        vertical-align: middle;\n",
       "    }\n",
       "\n",
       "    .dataframe tbody tr th {\n",
       "        vertical-align: top;\n",
       "    }\n",
       "\n",
       "    .dataframe thead th {\n",
       "        text-align: right;\n",
       "    }\n",
       "</style>\n",
       "<table border=\"1\" class=\"dataframe\">\n",
       "  <thead>\n",
       "    <tr style=\"text-align: right;\">\n",
       "      <th></th>\n",
       "      <th>user_id</th>\n",
       "      <th>gender</th>\n",
       "      <th>bdate</th>\n",
       "    </tr>\n",
       "  </thead>\n",
       "  <tbody>\n",
       "    <tr>\n",
       "      <th>0</th>\n",
       "      <td>2224890</td>\n",
       "      <td>NaN</td>\n",
       "      <td>NaN</td>\n",
       "    </tr>\n",
       "    <tr>\n",
       "      <th>1</th>\n",
       "      <td>1683001</td>\n",
       "      <td>male</td>\n",
       "      <td>1987-10-11</td>\n",
       "    </tr>\n",
       "    <tr>\n",
       "      <th>2</th>\n",
       "      <td>2102480</td>\n",
       "      <td>NaN</td>\n",
       "      <td>NaN</td>\n",
       "    </tr>\n",
       "    <tr>\n",
       "      <th>3</th>\n",
       "      <td>2224895</td>\n",
       "      <td>NaN</td>\n",
       "      <td>NaN</td>\n",
       "    </tr>\n",
       "    <tr>\n",
       "      <th>4</th>\n",
       "      <td>930197</td>\n",
       "      <td>NaN</td>\n",
       "      <td>NaN</td>\n",
       "    </tr>\n",
       "  </tbody>\n",
       "</table>\n",
       "</div>"
      ],
      "text/plain": [
       "   user_id gender       bdate\n",
       "0  2224890    NaN         NaN\n",
       "1  1683001   male  1987-10-11\n",
       "2  2102480    NaN         NaN\n",
       "3  2224895    NaN         NaN\n",
       "4   930197    NaN         NaN"
      ]
     },
     "execution_count": 12,
     "metadata": {},
     "output_type": "execute_result"
    }
   ],
   "source": [
    "df_user_profiles.head()"
   ]
  },
  {
   "cell_type": "code",
   "execution_count": 13,
   "metadata": {},
   "outputs": [
    {
     "data": {
      "text/html": [
       "<div>\n",
       "<style scoped>\n",
       "    .dataframe tbody tr th:only-of-type {\n",
       "        vertical-align: middle;\n",
       "    }\n",
       "\n",
       "    .dataframe tbody tr th {\n",
       "        vertical-align: top;\n",
       "    }\n",
       "\n",
       "    .dataframe thead th {\n",
       "        text-align: right;\n",
       "    }\n",
       "</style>\n",
       "<table border=\"1\" class=\"dataframe\">\n",
       "  <thead>\n",
       "    <tr style=\"text-align: right;\">\n",
       "      <th></th>\n",
       "      <th>product_id</th>\n",
       "      <th>property_name</th>\n",
       "      <th>property_value</th>\n",
       "    </tr>\n",
       "  </thead>\n",
       "  <tbody>\n",
       "    <tr>\n",
       "      <th>0</th>\n",
       "      <td>1</td>\n",
       "      <td>Вес</td>\n",
       "      <td>100 г</td>\n",
       "    </tr>\n",
       "    <tr>\n",
       "      <th>1</th>\n",
       "      <td>2</td>\n",
       "      <td>Вид</td>\n",
       "      <td>Молочный напиток</td>\n",
       "    </tr>\n",
       "    <tr>\n",
       "      <th>2</th>\n",
       "      <td>2</td>\n",
       "      <td>Вес</td>\n",
       "      <td>100 г</td>\n",
       "    </tr>\n",
       "    <tr>\n",
       "      <th>3</th>\n",
       "      <td>2</td>\n",
       "      <td>Вкус</td>\n",
       "      <td>Черника</td>\n",
       "    </tr>\n",
       "    <tr>\n",
       "      <th>4</th>\n",
       "      <td>2</td>\n",
       "      <td>Сырье</td>\n",
       "      <td>Натуральное молоко</td>\n",
       "    </tr>\n",
       "  </tbody>\n",
       "</table>\n",
       "</div>"
      ],
      "text/plain": [
       "   product_id property_name      property_value\n",
       "0           1           Вес               100 г\n",
       "1           2           Вид    Молочный напиток\n",
       "2           2           Вес               100 г\n",
       "3           2          Вкус             Черника\n",
       "4           2         Сырье  Натуральное молоко"
      ]
     },
     "execution_count": 13,
     "metadata": {},
     "output_type": "execute_result"
    }
   ],
   "source": [
    "df_product_properties.head()"
   ]
  },
  {
   "cell_type": "code",
   "execution_count": 14,
   "metadata": {},
   "outputs": [
    {
     "data": {
      "text/html": [
       "<div>\n",
       "<style scoped>\n",
       "    .dataframe tbody tr th:only-of-type {\n",
       "        vertical-align: middle;\n",
       "    }\n",
       "\n",
       "    .dataframe tbody tr th {\n",
       "        vertical-align: top;\n",
       "    }\n",
       "\n",
       "    .dataframe thead th {\n",
       "        text-align: right;\n",
       "    }\n",
       "</style>\n",
       "<table border=\"1\" class=\"dataframe\">\n",
       "  <thead>\n",
       "    <tr style=\"text-align: right;\">\n",
       "      <th></th>\n",
       "      <th>store_id</th>\n",
       "      <th>city_name</th>\n",
       "    </tr>\n",
       "  </thead>\n",
       "  <tbody>\n",
       "    <tr>\n",
       "      <th>0</th>\n",
       "      <td>14</td>\n",
       "      <td>Москва</td>\n",
       "    </tr>\n",
       "    <tr>\n",
       "      <th>1</th>\n",
       "      <td>21</td>\n",
       "      <td>Москва</td>\n",
       "    </tr>\n",
       "    <tr>\n",
       "      <th>2</th>\n",
       "      <td>1</td>\n",
       "      <td>Москва</td>\n",
       "    </tr>\n",
       "    <tr>\n",
       "      <th>3</th>\n",
       "      <td>4</td>\n",
       "      <td>Москва</td>\n",
       "    </tr>\n",
       "    <tr>\n",
       "      <th>4</th>\n",
       "      <td>7</td>\n",
       "      <td>Москва</td>\n",
       "    </tr>\n",
       "  </tbody>\n",
       "</table>\n",
       "</div>"
      ],
      "text/plain": [
       "   store_id city_name\n",
       "0        14    Москва\n",
       "1        21    Москва\n",
       "2         1    Москва\n",
       "3         4    Москва\n",
       "4         7    Москва"
      ]
     },
     "execution_count": 14,
     "metadata": {},
     "output_type": "execute_result"
    }
   ],
   "source": [
    "df_city.head "
   ]
  },
  {
   "cell_type": "code",
   "execution_count": 15,
   "metadata": {},
   "outputs": [
    {
     "data": {
      "text/html": [
       "<div>\n",
       "<style scoped>\n",
       "    .dataframe tbody tr th:only-of-type {\n",
       "        vertical-align: middle;\n",
       "    }\n",
       "\n",
       "    .dataframe tbody tr th {\n",
       "        vertical-align: top;\n",
       "    }\n",
       "\n",
       "    .dataframe thead th {\n",
       "        text-align: right;\n",
       "    }\n",
       "</style>\n",
       "<table border=\"1\" class=\"dataframe\">\n",
       "  <thead>\n",
       "    <tr style=\"text-align: right;\">\n",
       "      <th></th>\n",
       "      <th>Id</th>\n",
       "      <th>Predicted</th>\n",
       "    </tr>\n",
       "  </thead>\n",
       "  <tbody>\n",
       "    <tr>\n",
       "      <th>0</th>\n",
       "      <td>51</td>\n",
       "      <td>3239211 10720024 8493844 1965540 5009002 95218...</td>\n",
       "    </tr>\n",
       "    <tr>\n",
       "      <th>1</th>\n",
       "      <td>65</td>\n",
       "      <td>11693356 13392267 2464515 2245175 4748570 1134...</td>\n",
       "    </tr>\n",
       "    <tr>\n",
       "      <th>2</th>\n",
       "      <td>766</td>\n",
       "      <td>12773054 3692749 12726751 10041624 11893515 23...</td>\n",
       "    </tr>\n",
       "    <tr>\n",
       "      <th>3</th>\n",
       "      <td>1132</td>\n",
       "      <td>8613934 3599065 575614 4821474 11609320 699047...</td>\n",
       "    </tr>\n",
       "    <tr>\n",
       "      <th>4</th>\n",
       "      <td>1578</td>\n",
       "      <td>289404 4328240 3129788 9390886 11166655 173077...</td>\n",
       "    </tr>\n",
       "  </tbody>\n",
       "</table>\n",
       "</div>"
      ],
      "text/plain": [
       "     Id                                          Predicted\n",
       "0    51  3239211 10720024 8493844 1965540 5009002 95218...\n",
       "1    65  11693356 13392267 2464515 2245175 4748570 1134...\n",
       "2   766  12773054 3692749 12726751 10041624 11893515 23...\n",
       "3  1132  8613934 3599065 575614 4821474 11609320 699047...\n",
       "4  1578  289404 4328240 3129788 9390886 11166655 173077..."
      ]
     },
     "execution_count": 15,
     "metadata": {},
     "output_type": "execute_result"
    }
   ],
   "source": [
    "df_sample_submission.head()"
   ]
  },
  {
   "cell_type": "code",
   "execution_count": 16,
   "metadata": {},
   "outputs": [
    {
     "data": {
      "text/plain": [
       "Index(['user_id', 'order_id', 'order_created_time', 'retailer', 'store_id',\n",
       "       'platform'],\n",
       "      dtype='object')"
      ]
     },
     "execution_count": 16,
     "metadata": {},
     "output_type": "execute_result"
    }
   ],
   "source": [
    "df_orders.columns"
   ]
  },
  {
   "cell_type": "code",
   "execution_count": 35,
   "metadata": {},
   "outputs": [
    {
     "data": {
      "text/html": [
       "<div>\n",
       "<style scoped>\n",
       "    .dataframe tbody tr th:only-of-type {\n",
       "        vertical-align: middle;\n",
       "    }\n",
       "\n",
       "    .dataframe tbody tr th {\n",
       "        vertical-align: top;\n",
       "    }\n",
       "\n",
       "    .dataframe thead th {\n",
       "        text-align: right;\n",
       "    }\n",
       "</style>\n",
       "<table border=\"1\" class=\"dataframe\">\n",
       "  <thead>\n",
       "    <tr style=\"text-align: right;\">\n",
       "      <th></th>\n",
       "      <th>order_created_time</th>\n",
       "      <th>retailer</th>\n",
       "      <th>store_id</th>\n",
       "      <th>platform</th>\n",
       "    </tr>\n",
       "  </thead>\n",
       "  <tbody>\n",
       "    <tr>\n",
       "      <th>0</th>\n",
       "      <td>2020-09-26 10:48:57</td>\n",
       "      <td>METRO</td>\n",
       "      <td>21</td>\n",
       "      <td>app</td>\n",
       "    </tr>\n",
       "    <tr>\n",
       "      <th>1</th>\n",
       "      <td>2020-05-08 09:46:18</td>\n",
       "      <td>METRO</td>\n",
       "      <td>87</td>\n",
       "      <td>web</td>\n",
       "    </tr>\n",
       "    <tr>\n",
       "      <th>2</th>\n",
       "      <td>2020-05-14 15:06:03</td>\n",
       "      <td>METRO</td>\n",
       "      <td>320</td>\n",
       "      <td>app</td>\n",
       "    </tr>\n",
       "    <tr>\n",
       "      <th>3</th>\n",
       "      <td>2020-09-01 17:34:00</td>\n",
       "      <td>ВкусВилл</td>\n",
       "      <td>533</td>\n",
       "      <td>app</td>\n",
       "    </tr>\n",
       "    <tr>\n",
       "      <th>4</th>\n",
       "      <td>2020-05-20 06:32:50</td>\n",
       "      <td>Ашан</td>\n",
       "      <td>183</td>\n",
       "      <td>web</td>\n",
       "    </tr>\n",
       "    <tr>\n",
       "      <th>...</th>\n",
       "      <td>...</td>\n",
       "      <td>...</td>\n",
       "      <td>...</td>\n",
       "      <td>...</td>\n",
       "    </tr>\n",
       "    <tr>\n",
       "      <th>2461953</th>\n",
       "      <td>2020-09-01 15:41:27</td>\n",
       "      <td>Лента</td>\n",
       "      <td>218</td>\n",
       "      <td>app</td>\n",
       "    </tr>\n",
       "    <tr>\n",
       "      <th>2461954</th>\n",
       "      <td>2020-09-17 10:16:16</td>\n",
       "      <td>Лента</td>\n",
       "      <td>130</td>\n",
       "      <td>app</td>\n",
       "    </tr>\n",
       "    <tr>\n",
       "      <th>2461955</th>\n",
       "      <td>2020-04-29 10:09:37</td>\n",
       "      <td>Лента</td>\n",
       "      <td>373</td>\n",
       "      <td>app</td>\n",
       "    </tr>\n",
       "    <tr>\n",
       "      <th>2461956</th>\n",
       "      <td>2020-09-30 09:18:19</td>\n",
       "      <td>Лента</td>\n",
       "      <td>781</td>\n",
       "      <td>undefined</td>\n",
       "    </tr>\n",
       "    <tr>\n",
       "      <th>2461957</th>\n",
       "      <td>2020-05-16 22:33:20</td>\n",
       "      <td>METRO</td>\n",
       "      <td>189</td>\n",
       "      <td>app</td>\n",
       "    </tr>\n",
       "  </tbody>\n",
       "</table>\n",
       "<p>2461958 rows × 4 columns</p>\n",
       "</div>"
      ],
      "text/plain": [
       "         order_created_time  retailer  store_id   platform\n",
       "0       2020-09-26 10:48:57     METRO        21        app\n",
       "1       2020-05-08 09:46:18     METRO        87        web\n",
       "2       2020-05-14 15:06:03     METRO       320        app\n",
       "3       2020-09-01 17:34:00  ВкусВилл       533        app\n",
       "4       2020-05-20 06:32:50      Ашан       183        web\n",
       "...                     ...       ...       ...        ...\n",
       "2461953 2020-09-01 15:41:27     Лента       218        app\n",
       "2461954 2020-09-17 10:16:16     Лента       130        app\n",
       "2461955 2020-04-29 10:09:37     Лента       373        app\n",
       "2461956 2020-09-30 09:18:19     Лента       781  undefined\n",
       "2461957 2020-05-16 22:33:20     METRO       189        app\n",
       "\n",
       "[2461958 rows x 4 columns]"
      ]
     },
     "execution_count": 35,
     "metadata": {},
     "output_type": "execute_result"
    }
   ],
   "source": [
    "df_orders[['order_created_time', 'retailer', 'store_id', 'platform']]"
   ]
  },
  {
   "cell_type": "code",
   "execution_count": 9,
   "metadata": {},
   "outputs": [
    {
     "data": {
      "text/plain": [
       "\"df_orders['period'].replace({1: 'Late Night',\\n                      2: 'Early Morning',\\n                      3: 'Morning',\\n                      4: 'Noon',\\n                      5: 'Evening',\\n                      6: 'Night'}, inplace=True)\""
      ]
     },
     "execution_count": 9,
     "metadata": {},
     "output_type": "execute_result"
    }
   ],
   "source": [
    "df_orders['period'] = (df_orders['order_created_time'].dt.hour % 24 + 1) \n",
    "\"\"\"df_orders['period'].replace({1: 'Late Night',\n",
    "                      2: 'Early Morning',\n",
    "                      3: 'Morning',\n",
    "                      4: 'Noon',\n",
    "                      5: 'Evening',\n",
    "                      6: 'Night'}, inplace=True)\"\"\""
   ]
  },
  {
   "cell_type": "code",
   "execution_count": 10,
   "metadata": {
    "scrolled": true
   },
   "outputs": [
    {
     "data": {
      "text/plain": [
       "10    178980\n",
       "11    178222\n",
       "9     176585\n",
       "12    171527\n",
       "8     163399\n",
       "13    159606\n",
       "14    148386\n",
       "7     140464\n",
       "15    137568\n",
       "16    123650\n",
       "17    113687\n",
       "18    110432\n",
       "6     106928\n",
       "19    106188\n",
       "20     98152\n",
       "21     78525\n",
       "5      71646\n",
       "22     50059\n",
       "4      44292\n",
       "23     28183\n",
       "3      26554\n",
       "24     18389\n",
       "2      16809\n",
       "1      13727\n",
       "Name: period, dtype: int64"
      ]
     },
     "execution_count": 10,
     "metadata": {},
     "output_type": "execute_result"
    }
   ],
   "source": [
    "df_orders.period.value_counts()"
   ]
  },
  {
   "cell_type": "code",
   "execution_count": 16,
   "metadata": {
    "scrolled": false
   },
   "outputs": [
    {
     "data": {
      "text/plain": [
       "<matplotlib.axes._subplots.AxesSubplot at 0x7f60141cd880>"
      ]
     },
     "execution_count": 16,
     "metadata": {},
     "output_type": "execute_result"
    },
    {
     "data": {
      "image/png": "[encoded data removed]",
      "text/plain": [
       "<Figure size 432x288 with 1 Axes>"
      ]
     },
     "metadata": {
      "needs_background": "light"
     },
     "output_type": "display_data"
    }
   ],
   "source": [
    "import matplotlib.pyplot as plt\n",
    "\n",
    "df_orders[df_orders['order_created_time'] < '2020-04-01'].period.sort_values().hist()"
   ]
  },
  {
   "cell_type": "code",
   "execution_count": 56,
   "metadata": {},
   "outputs": [
    {
     "data": {
      "text/plain": [
       "[Text(0, 0, 'METRO'),\n",
       " Text(0, 0, 'Лента'),\n",
       " Text(0, 0, 'Ашан'),\n",
       " Text(0, 0, 'МЕГАМАРТ'),\n",
       " Text(0, 0, 'ВкусВилл'),\n",
       " Text(0, 0, 'BILLA'),\n",
       " Text(0, 0, 'SELGROS'),\n",
       " Text(0, 0, 'ВИКТОРИЯ'),\n",
       " Text(0, 0, 'Командор'),\n",
       " Text(0, 0, 'REAL')]"
      ]
     },
     "execution_count": 56,
     "metadata": {},
     "output_type": "execute_result"
    },
    {
     "data": {
      "image/png": "[encoded data removed]",
      "text/plain": [
       "<Figure size 432x288 with 1 Axes>"
      ]
     },
     "metadata": {
      "needs_background": "light"
     },
     "output_type": "display_data"
    }
   ],
   "source": [
    "import numpy as np\n",
    "ret = ['METRO', 'Лента', 'Ашан', 'МЕГАМАРТ', 'ВкусВилл', 'BILLA', 'SELGROS', 'ВИКТОРИЯ', 'Командор', 'REAL']\n",
    "y_pos = np.arange(len(ret))\n",
    "fig, ax = plt.subplots()\n",
    "ax.barh(y_pos, df_orders.retailer.value_counts()[:10])\n",
    "\n",
    "ax.set_yticks(y_pos)\n",
    "ax.set_yticklabels(ret)"
   ]
  },
  {
   "cell_type": "code",
   "execution_count": 17,
   "metadata": {},
   "outputs": [
    {
     "data": {
      "text/plain": [
       "[Text(0, 0, 'МЕГАМАРТ'),\n",
       " Text(0, 0, 'ВкусВилл'),\n",
       " Text(0, 0, 'BILLA'),\n",
       " Text(0, 0, 'SELGROS'),\n",
       " Text(0, 0, 'ВИКТОРИЯ'),\n",
       " Text(0, 0, 'Командор'),\n",
       " Text(0, 0, 'REAL'),\n",
       " Text(0, 0, 'Азбука Вкуса'),\n",
       " Text(0, 0, 'Аллея'),\n",
       " Text(0, 0, 'Бахетле')]"
      ]
     },
     "execution_count": 17,
     "metadata": {},
     "output_type": "execute_result"
    },
    {
     "data": {
      "image/png": "[encoded data removed]",
      "text/plain": [
       "<Figure size 432x288 with 1 Axes>"
      ]
     },
     "metadata": {
      "needs_background": "light"
     },
     "output_type": "display_data"
    }
   ],
   "source": [
    "import numpy as np\n",
    "ret = ['МЕГАМАРТ', 'ВкусВилл', 'BILLA', 'SELGROS', 'ВИКТОРИЯ', 'Командор', 'REAL', 'Азбука Вкуса', 'Аллея', 'Бахетле']\n",
    "y_pos = np.arange(len(ret))\n",
    "fig, ax = plt.subplots()\n",
    "ax.barh(y_pos, df_orders.retailer.value_counts()[3:13])\n",
    "\n",
    "ax.set_yticks(y_pos)\n",
    "ax.set_yticklabels(ret)"
   ]
  },
  {
   "cell_type": "code",
   "execution_count": null,
   "metadata": {},
   "outputs": [],
   "source": [
    "df_orders.retailer.value_counts()[:10].shape"
   ]
  },
  {
   "cell_type": "code",
   "execution_count": 18,
   "metadata": {},
   "outputs": [],
   "source": [
    "df_full_products = pd.concat([*df_products])"
   ]
  },
  {
   "cell_type": "code",
   "execution_count": 19,
   "metadata": {},
   "outputs": [],
   "source": [
    "df_full_orders = pd.merge(df_orders, df_full_products, how='inner', on=[\"order_id\"] )"
   ]
  },
  {
   "cell_type": "code",
   "execution_count": 24,
   "metadata": {},
   "outputs": [
    {
     "data": {
      "text/html": [
       "<div>\n",
       "<style scoped>\n",
       "    .dataframe tbody tr th:only-of-type {\n",
       "        vertical-align: middle;\n",
       "    }\n",
       "\n",
       "    .dataframe tbody tr th {\n",
       "        vertical-align: top;\n",
       "    }\n",
       "\n",
       "    .dataframe thead th {\n",
       "        text-align: right;\n",
       "    }\n",
       "</style>\n",
       "<table border=\"1\" class=\"dataframe\">\n",
       "  <thead>\n",
       "    <tr style=\"text-align: right;\">\n",
       "      <th></th>\n",
       "      <th>user_id_x</th>\n",
       "      <th>order_id</th>\n",
       "      <th>order_created_time</th>\n",
       "      <th>retailer</th>\n",
       "      <th>store_id</th>\n",
       "      <th>platform</th>\n",
       "      <th>period</th>\n",
       "      <th>user_id_y</th>\n",
       "      <th>line_item_id</th>\n",
       "      <th>price</th>\n",
       "      <th>quantity</th>\n",
       "      <th>discount</th>\n",
       "      <th>product_name</th>\n",
       "      <th>product_id</th>\n",
       "      <th>brand_name</th>\n",
       "      <th>master_category_id</th>\n",
       "      <th>parent_category_id</th>\n",
       "    </tr>\n",
       "  </thead>\n",
       "  <tbody>\n",
       "    <tr>\n",
       "      <th>0</th>\n",
       "      <td>83</td>\n",
       "      <td>9718154</td>\n",
       "      <td>2020-05-08 09:46:18</td>\n",
       "      <td>METRO</td>\n",
       "      <td>87</td>\n",
       "      <td>web</td>\n",
       "      <td>10</td>\n",
       "      <td>83</td>\n",
       "      <td>112927764</td>\n",
       "      <td>649.0</td>\n",
       "      <td>1</td>\n",
       "      <td>0.0</td>\n",
       "      <td>Набор шампуров Forester с деревянными ручками ...</td>\n",
       "      <td>74993</td>\n",
       "      <td>Forester</td>\n",
       "      <td>432.0</td>\n",
       "      <td>429</td>\n",
       "    </tr>\n",
       "    <tr>\n",
       "      <th>1</th>\n",
       "      <td>83</td>\n",
       "      <td>9718154</td>\n",
       "      <td>2020-05-08 09:46:18</td>\n",
       "      <td>METRO</td>\n",
       "      <td>87</td>\n",
       "      <td>web</td>\n",
       "      <td>10</td>\n",
       "      <td>83</td>\n",
       "      <td>112928139</td>\n",
       "      <td>499.0</td>\n",
       "      <td>1</td>\n",
       "      <td>0.0</td>\n",
       "      <td>Набор шампуров Forester больших 55 см</td>\n",
       "      <td>38831</td>\n",
       "      <td>Forester</td>\n",
       "      <td>432.0</td>\n",
       "      <td>429</td>\n",
       "    </tr>\n",
       "    <tr>\n",
       "      <th>2</th>\n",
       "      <td>83</td>\n",
       "      <td>9718154</td>\n",
       "      <td>2020-05-08 09:46:18</td>\n",
       "      <td>METRO</td>\n",
       "      <td>87</td>\n",
       "      <td>web</td>\n",
       "      <td>10</td>\n",
       "      <td>83</td>\n",
       "      <td>112928452</td>\n",
       "      <td>429.0</td>\n",
       "      <td>1</td>\n",
       "      <td>0.0</td>\n",
       "      <td>Решетка FireWood для барбекю 2005</td>\n",
       "      <td>4593463</td>\n",
       "      <td>FireWood</td>\n",
       "      <td>432.0</td>\n",
       "      <td>429</td>\n",
       "    </tr>\n",
       "    <tr>\n",
       "      <th>3</th>\n",
       "      <td>83</td>\n",
       "      <td>9718154</td>\n",
       "      <td>2020-05-08 09:46:18</td>\n",
       "      <td>METRO</td>\n",
       "      <td>87</td>\n",
       "      <td>web</td>\n",
       "      <td>10</td>\n",
       "      <td>83</td>\n",
       "      <td>112928905</td>\n",
       "      <td>999.0</td>\n",
       "      <td>1</td>\n",
       "      <td>0.0</td>\n",
       "      <td>Решетка-гриль Forester объемная большая 26 х 3...</td>\n",
       "      <td>63102</td>\n",
       "      <td>Forester</td>\n",
       "      <td>432.0</td>\n",
       "      <td>429</td>\n",
       "    </tr>\n",
       "    <tr>\n",
       "      <th>4</th>\n",
       "      <td>83</td>\n",
       "      <td>9718154</td>\n",
       "      <td>2020-05-08 09:46:18</td>\n",
       "      <td>METRO</td>\n",
       "      <td>87</td>\n",
       "      <td>web</td>\n",
       "      <td>10</td>\n",
       "      <td>83</td>\n",
       "      <td>112929150</td>\n",
       "      <td>85.0</td>\n",
       "      <td>1</td>\n",
       "      <td>0.0</td>\n",
       "      <td>Средство для розжига Metro Professional</td>\n",
       "      <td>198543</td>\n",
       "      <td>Metro Professional</td>\n",
       "      <td>434.0</td>\n",
       "      <td>429</td>\n",
       "    </tr>\n",
       "  </tbody>\n",
       "</table>\n",
       "</div>"
      ],
      "text/plain": [
       "   user_id_x  order_id  order_created_time retailer  store_id platform  \\\n",
       "0         83   9718154 2020-05-08 09:46:18    METRO        87      web   \n",
       "1         83   9718154 2020-05-08 09:46:18    METRO        87      web   \n",
       "2         83   9718154 2020-05-08 09:46:18    METRO        87      web   \n",
       "3         83   9718154 2020-05-08 09:46:18    METRO        87      web   \n",
       "4         83   9718154 2020-05-08 09:46:18    METRO        87      web   \n",
       "\n",
       "   period  user_id_y  line_item_id  price  quantity  discount  \\\n",
       "0      10         83     112927764  649.0         1       0.0   \n",
       "1      10         83     112928139  499.0         1       0.0   \n",
       "2      10         83     112928452  429.0         1       0.0   \n",
       "3      10         83     112928905  999.0         1       0.0   \n",
       "4      10         83     112929150   85.0         1       0.0   \n",
       "\n",
       "                                        product_name  product_id  \\\n",
       "0  Набор шампуров Forester с деревянными ручками ...       74993   \n",
       "1              Набор шампуров Forester больших 55 см       38831   \n",
       "2                  Решетка FireWood для барбекю 2005     4593463   \n",
       "3  Решетка-гриль Forester объемная большая 26 х 3...       63102   \n",
       "4            Средство для розжига Metro Professional      198543   \n",
       "\n",
       "           brand_name  master_category_id  parent_category_id  \n",
       "0            Forester               432.0                 429  \n",
       "1            Forester               432.0                 429  \n",
       "2            FireWood               432.0                 429  \n",
       "3            Forester               432.0                 429  \n",
       "4  Metro Professional               434.0                 429  "
      ]
     },
     "execution_count": 24,
     "metadata": {},
     "output_type": "execute_result"
    }
   ],
   "source": [
    "df_full_orders.head()"
   ]
  },
  {
   "cell_type": "code",
   "execution_count": 23,
   "metadata": {
    "scrolled": true
   },
   "outputs": [
    {
     "data": {
      "text/html": [
       "<div>\n",
       "<style scoped>\n",
       "    .dataframe tbody tr th:only-of-type {\n",
       "        vertical-align: middle;\n",
       "    }\n",
       "\n",
       "    .dataframe tbody tr th {\n",
       "        vertical-align: top;\n",
       "    }\n",
       "\n",
       "    .dataframe thead th {\n",
       "        text-align: right;\n",
       "    }\n",
       "</style>\n",
       "<table border=\"1\" class=\"dataframe\">\n",
       "  <thead>\n",
       "    <tr style=\"text-align: right;\">\n",
       "      <th></th>\n",
       "      <th>price</th>\n",
       "    </tr>\n",
       "    <tr>\n",
       "      <th>retailer</th>\n",
       "      <th></th>\n",
       "    </tr>\n",
       "  </thead>\n",
       "  <tbody>\n",
       "    <tr>\n",
       "      <th>Оптоклуб РЯДЫ</th>\n",
       "      <td>521.989990</td>\n",
       "    </tr>\n",
       "    <tr>\n",
       "      <th>Азбука Вкуса</th>\n",
       "      <td>210.732973</td>\n",
       "    </tr>\n",
       "    <tr>\n",
       "      <th>Home Market</th>\n",
       "      <td>207.772759</td>\n",
       "    </tr>\n",
       "    <tr>\n",
       "      <th>Улыбка Радуги</th>\n",
       "      <td>205.000000</td>\n",
       "    </tr>\n",
       "    <tr>\n",
       "      <th>ТЦ \"Новомариинский\"</th>\n",
       "      <td>162.697400</td>\n",
       "    </tr>\n",
       "    <tr>\n",
       "      <th>МАГНОЛИЯ</th>\n",
       "      <td>159.352143</td>\n",
       "    </tr>\n",
       "    <tr>\n",
       "      <th>ЮгОпт</th>\n",
       "      <td>155.578749</td>\n",
       "    </tr>\n",
       "    <tr>\n",
       "      <th>ПАРУС</th>\n",
       "      <td>145.643433</td>\n",
       "    </tr>\n",
       "    <tr>\n",
       "      <th>СЕДЬМАЯ СТОЛИЦА</th>\n",
       "      <td>145.449348</td>\n",
       "    </tr>\n",
       "    <tr>\n",
       "      <th>METRO</th>\n",
       "      <td>144.893607</td>\n",
       "    </tr>\n",
       "  </tbody>\n",
       "</table>\n",
       "</div>"
      ],
      "text/plain": [
       "                           price\n",
       "retailer                        \n",
       "Оптоклуб РЯДЫ         521.989990\n",
       "Азбука Вкуса          210.732973\n",
       "Home Market           207.772759\n",
       "Улыбка Радуги         205.000000\n",
       "ТЦ \"Новомариинский\"   162.697400\n",
       "МАГНОЛИЯ              159.352143\n",
       "ЮгОпт                 155.578749\n",
       "ПАРУС                 145.643433\n",
       "СЕДЬМАЯ СТОЛИЦА       145.449348\n",
       "METRO                 144.893607"
      ]
     },
     "execution_count": 23,
     "metadata": {},
     "output_type": "execute_result"
    }
   ],
   "source": [
    "df_full_orders[['retailer', 'price']].groupby('retailer').mean().sort_values(by='price', ascending=False)[:10]"
   ]
  },
  {
   "cell_type": "code",
   "execution_count": 67,
   "metadata": {},
   "outputs": [],
   "source": [
    "df_full_orders['month'] = df_full_orders['order_created_time'].dt.month"
   ]
  },
  {
   "cell_type": "code",
   "execution_count": 55,
   "metadata": {},
   "outputs": [],
   "source": [
    "num_checks_per_retailer = df_full_orders[['order_id', 'retailer']].groupby('retailer').count().sort_values(by='order_id', ascending=False)"
   ]
  },
  {
   "cell_type": "code",
   "execution_count": null,
   "metadata": {},
   "outputs": [],
   "source": [
    "num_checks_per_retailer = df_full_orders[['order_id', 'retailer']].groupby('retailer').count().sort_values(by='order_id', ascending=False)"
   ]
  },
  {
   "cell_type": "code",
   "execution_count": 80,
   "metadata": {},
   "outputs": [],
   "source": [
    "revenue_per_month = df_full_orders[['retailer', 'month',  'price']].groupby(['retailer', 'month']).sum().reset_index()[['retailer',  'price']].groupby('retailer').mean()\n",
    "revenue_per_month.columns = ['revenue_per_month']"
   ]
  },
  {
   "cell_type": "code",
   "execution_count": 97,
   "metadata": {},
   "outputs": [],
   "source": [
    "mean_per_ret_and_check = df_full_orders[['order_id', 'retailer', 'price']].groupby(['retailer', 'order_id']).mean().sort_values(by='order_id', ascending=False)\n",
    "mean_check_per_retailer = mean_per_ret_and_check.reset_index()[['retailer', 'price']].groupby('retailer').mean().sort_values(by='price', ascending=False)"
   ]
  },
  {
   "cell_type": "code",
   "execution_count": 98,
   "metadata": {},
   "outputs": [],
   "source": [
    "res = pd.merge(mean_check_per_retailer, num_checks_per_retailer, how='inner', on=[\"retailer\"] ).sort_values(by='order_id', ascending=False)\n",
    "res.columns = (['mean_price', 'num_orders'])"
   ]
  },
  {
   "cell_type": "code",
   "execution_count": 99,
   "metadata": {},
   "outputs": [],
   "source": [
    "res = pd.merge(res, revenue_per_month, how='inner', on=[\"retailer\"] ).sort_values(by='num_orders', ascending=False)\n",
    "res = res.sort_values(by=['revenue_per_month'], ascending=False)"
   ]
  },
  {
   "cell_type": "code",
   "execution_count": 100,
   "metadata": {},
   "outputs": [
    {
     "data": {
      "text/plain": [
       "mean_price              157.333023\n",
       "num_orders            10357.428571\n",
       "revenue_per_month    132378.547924\n",
       "Name: mean, dtype: float64"
      ]
     },
     "execution_count": 100,
     "metadata": {},
     "output_type": "execute_result"
    }
   ],
   "source": [
    "res[3:].describe().iloc[1]"
   ]
  },
  {
   "cell_type": "code",
   "execution_count": 33,
   "metadata": {},
   "outputs": [
    {
     "data": {
      "text/plain": [
       "price    151.825762\n",
       "dtype: float64"
      ]
     },
     "execution_count": 33,
     "metadata": {},
     "output_type": "execute_result"
    }
   ],
   "source": [
    "df_full_orders[['order_id', 'retailer', 'price']].groupby(['retailer', 'order_id']).mean().sort_values(by='order_id', ascending=False)[['price']].groupby().mean()"
   ]
  }
 ],
 "metadata": {
  "kernelspec": {
   "display_name": "Python 3",
   "language": "python",
   "name": "python3"
  },
  "language_info": {
   "codemirror_mode": {
    "name": "ipython",
    "version": 3
   },
   "file_extension": ".py",
   "mimetype": "text/x-python",
   "name": "python",
   "nbconvert_exporter": "python",
   "pygments_lexer": "ipython3",
   "version": "3.8.3"
  }
 },
 "nbformat": 4,
 "nbformat_minor": 4
}
